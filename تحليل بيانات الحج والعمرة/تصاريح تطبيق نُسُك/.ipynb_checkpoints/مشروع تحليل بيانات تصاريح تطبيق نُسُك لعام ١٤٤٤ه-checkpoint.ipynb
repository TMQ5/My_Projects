{
 "cells": [
  {
   "cell_type": "markdown",
   "id": "51380c05",
   "metadata": {},
   "source": [
    "# مشروع تحليل بيانات تصاريح تطبيق نُسُك لعام ١٤٤٤هـ "
   ]
  },
  {
   "cell_type": "code",
   "execution_count": 33,
   "id": "fd9382f4",
   "metadata": {},
   "outputs": [],
   "source": [
    "# Import necessary libraries\n",
    "import pandas as pd\n",
    "import matplotlib.pyplot as plt"
   ]
  },
  {
   "cell_type": "code",
   "execution_count": 34,
   "id": "cc052c27",
   "metadata": {},
   "outputs": [],
   "source": [
    "# Read csv file\n",
    "df = pd.read_csv('number-of-permits-from-the-nsk.csv')"
   ]
  },
  {
   "cell_type": "markdown",
   "id": "879d5241",
   "metadata": {},
   "source": [
    "# تقييم البيانات"
   ]
  },
  {
   "cell_type": "code",
   "execution_count": 35,
   "id": "57c5855e",
   "metadata": {},
   "outputs": [
    {
     "data": {
      "text/html": [
       "<div>\n",
       "<style scoped>\n",
       "    .dataframe tbody tr th:only-of-type {\n",
       "        vertical-align: middle;\n",
       "    }\n",
       "\n",
       "    .dataframe tbody tr th {\n",
       "        vertical-align: top;\n",
       "    }\n",
       "\n",
       "    .dataframe thead th {\n",
       "        text-align: right;\n",
       "    }\n",
       "</style>\n",
       "<table border=\"1\" class=\"dataframe\">\n",
       "  <thead>\n",
       "    <tr style=\"text-align: right;\">\n",
       "      <th></th>\n",
       "      <th>عدد التصاريح من نسك</th>\n",
       "      <th>نوع التصريح</th>\n",
       "      <th>الجنس</th>\n",
       "      <th>اليوم</th>\n",
       "    </tr>\n",
       "  </thead>\n",
       "  <tbody>\n",
       "    <tr>\n",
       "      <th>0</th>\n",
       "      <td>10815</td>\n",
       "      <td>روضة رجال</td>\n",
       "      <td>ذكر</td>\n",
       "      <td>1444/1/3</td>\n",
       "    </tr>\n",
       "    <tr>\n",
       "      <th>1</th>\n",
       "      <td>10591</td>\n",
       "      <td>روضة نساء</td>\n",
       "      <td>أنثى</td>\n",
       "      <td>1444/2/4</td>\n",
       "    </tr>\n",
       "    <tr>\n",
       "      <th>2</th>\n",
       "      <td>73039</td>\n",
       "      <td>عمرة</td>\n",
       "      <td>ذكر</td>\n",
       "      <td>1444/1/7</td>\n",
       "    </tr>\n",
       "    <tr>\n",
       "      <th>3</th>\n",
       "      <td>8092</td>\n",
       "      <td>روضة رجال</td>\n",
       "      <td>ذكر</td>\n",
       "      <td>1444/1/16</td>\n",
       "    </tr>\n",
       "    <tr>\n",
       "      <th>4</th>\n",
       "      <td>14544</td>\n",
       "      <td>روضة نساء</td>\n",
       "      <td>أنثى</td>\n",
       "      <td>1444/3/12</td>\n",
       "    </tr>\n",
       "  </tbody>\n",
       "</table>\n",
       "</div>"
      ],
      "text/plain": [
       "   عدد التصاريح من نسك نوع التصريح الجنس      اليوم\n",
       "0                10815   روضة رجال   ذكر   1444/1/3\n",
       "1                10591   روضة نساء  أنثى   1444/2/4\n",
       "2                73039        عمرة   ذكر   1444/1/7\n",
       "3                 8092   روضة رجال   ذكر  1444/1/16\n",
       "4                14544   روضة نساء  أنثى  1444/3/12"
      ]
     },
     "execution_count": 35,
     "metadata": {},
     "output_type": "execute_result"
    }
   ],
   "source": [
    "# Display the first five rows of the DataFrame using .head\n",
    "df.head()"
   ]
  },
  {
   "cell_type": "code",
   "execution_count": 36,
   "id": "ad78e6a1",
   "metadata": {},
   "outputs": [
    {
     "data": {
      "text/html": [
       "<div>\n",
       "<style scoped>\n",
       "    .dataframe tbody tr th:only-of-type {\n",
       "        vertical-align: middle;\n",
       "    }\n",
       "\n",
       "    .dataframe tbody tr th {\n",
       "        vertical-align: top;\n",
       "    }\n",
       "\n",
       "    .dataframe thead th {\n",
       "        text-align: right;\n",
       "    }\n",
       "</style>\n",
       "<table border=\"1\" class=\"dataframe\">\n",
       "  <thead>\n",
       "    <tr style=\"text-align: right;\">\n",
       "      <th></th>\n",
       "      <th>عدد التصاريح من نسك</th>\n",
       "      <th>نوع التصريح</th>\n",
       "      <th>الجنس</th>\n",
       "      <th>اليوم</th>\n",
       "    </tr>\n",
       "  </thead>\n",
       "  <tbody>\n",
       "    <tr>\n",
       "      <th>1714</th>\n",
       "      <td>1</td>\n",
       "      <td>روضة نساء</td>\n",
       "      <td>ذكر</td>\n",
       "      <td>1444/10/19</td>\n",
       "    </tr>\n",
       "    <tr>\n",
       "      <th>1715</th>\n",
       "      <td>1</td>\n",
       "      <td>روضة رجال</td>\n",
       "      <td>أنثى</td>\n",
       "      <td>1444/5/23</td>\n",
       "    </tr>\n",
       "    <tr>\n",
       "      <th>1716</th>\n",
       "      <td>1</td>\n",
       "      <td>روضة رجال</td>\n",
       "      <td>أنثى</td>\n",
       "      <td>1444/6/8</td>\n",
       "    </tr>\n",
       "    <tr>\n",
       "      <th>1717</th>\n",
       "      <td>1</td>\n",
       "      <td>روضة رجال</td>\n",
       "      <td>أنثى</td>\n",
       "      <td>1444/10/29</td>\n",
       "    </tr>\n",
       "    <tr>\n",
       "      <th>1718</th>\n",
       "      <td>1</td>\n",
       "      <td>روضة رجال</td>\n",
       "      <td>أنثى</td>\n",
       "      <td>1444/9/5</td>\n",
       "    </tr>\n",
       "  </tbody>\n",
       "</table>\n",
       "</div>"
      ],
      "text/plain": [
       "      عدد التصاريح من نسك نوع التصريح الجنس       اليوم\n",
       "1714                    1   روضة نساء   ذكر  1444/10/19\n",
       "1715                    1   روضة رجال  أنثى   1444/5/23\n",
       "1716                    1   روضة رجال  أنثى    1444/6/8\n",
       "1717                    1   روضة رجال  أنثى  1444/10/29\n",
       "1718                    1   روضة رجال  أنثى    1444/9/5"
      ]
     },
     "execution_count": 36,
     "metadata": {},
     "output_type": "execute_result"
    }
   ],
   "source": [
    "# Display the last five rows of the DataFrame using .tail\n",
    "df.tail()"
   ]
  },
  {
   "cell_type": "code",
   "execution_count": 37,
   "id": "0d74610c",
   "metadata": {},
   "outputs": [
    {
     "name": "stdout",
     "output_type": "stream",
     "text": [
      "<class 'pandas.core.frame.DataFrame'>\n",
      "RangeIndex: 1719 entries, 0 to 1718\n",
      "Data columns (total 4 columns):\n",
      " #   Column               Non-Null Count  Dtype \n",
      "---  ------               --------------  ----- \n",
      " 0   عدد التصاريح من نسك  1719 non-null   int64 \n",
      " 1   نوع التصريح          1719 non-null   object\n",
      " 2   الجنس                1719 non-null   object\n",
      " 3   اليوم                1719 non-null   object\n",
      "dtypes: int64(1), object(3)\n",
      "memory usage: 53.8+ KB\n"
     ]
    }
   ],
   "source": [
    "# Display a basic summary of the DataFrame using .info\n",
    "df.info()"
   ]
  },
  {
   "cell_type": "code",
   "execution_count": 38,
   "id": "a3150c88",
   "metadata": {
    "scrolled": true
   },
   "outputs": [
    {
     "data": {
      "text/plain": [
       "نوع التصريح\n",
       "عمرة         708\n",
       "روضة نساء    576\n",
       "روضة رجال    435\n",
       "dtype: int64"
      ]
     },
     "execution_count": 38,
     "metadata": {},
     "output_type": "execute_result"
    }
   ],
   "source": [
    "# Display the entry counts using .value_counts\n",
    "df.value_counts(\"نوع التصريح\")"
   ]
  },
  {
   "cell_type": "code",
   "execution_count": 39,
   "id": "2a68d3e1",
   "metadata": {
    "scrolled": true
   },
   "outputs": [
    {
     "data": {
      "text/plain": [
       "الجنس\n",
       "ذكر     930\n",
       "أنثى    789\n",
       "dtype: int64"
      ]
     },
     "execution_count": 39,
     "metadata": {},
     "output_type": "execute_result"
    }
   ],
   "source": [
    "# Display the entry counts using .value_counts\n",
    "df.value_counts(\"الجنس\")"
   ]
  },
  {
   "cell_type": "code",
   "execution_count": 40,
   "id": "f10cb6e0",
   "metadata": {},
   "outputs": [
    {
     "data": {
      "text/plain": [
       "عدد التصاريح من نسك    0\n",
       "نوع التصريح            0\n",
       "الجنس                  0\n",
       "اليوم                  0\n",
       "dtype: int64"
      ]
     },
     "execution_count": 40,
     "metadata": {},
     "output_type": "execute_result"
    }
   ],
   "source": [
    "# Count of missing values in each column\n",
    "df.isnull().sum()"
   ]
  },
  {
   "cell_type": "code",
   "execution_count": 41,
   "id": "e5b6e724",
   "metadata": {},
   "outputs": [
    {
     "data": {
      "text/plain": [
       "0"
      ]
     },
     "execution_count": 41,
     "metadata": {},
     "output_type": "execute_result"
    }
   ],
   "source": [
    "# Count of duplicate rows \n",
    "df.duplicated().sum()"
   ]
  },
  {
   "cell_type": "markdown",
   "id": "a48657e1",
   "metadata": {},
   "source": [
    "### :ملخص التقييم \n",
    "\n",
    "هناك ٤ أعمدة و ١٧١٩ صف \n",
    " \n",
    " :الأعمدة هي\n",
    " \n",
    " `عدد التصاريح من نسك` : عدد التصاريح التي تم إصدارها من تطبيق نُسك لعام ١٤٤٤هـ\n",
    "\n",
    " `نوع التصريح` : تصريح عمرة، تصريح زيارة للروضة للرجال، تصريح زيارة للروضة للنساء\n",
    "\n",
    " `الجنس` : ذكر و أنثى\n",
    "\n",
    " `اليوم` : تاريخ إصدار التصريح"
   ]
  },
  {
   "cell_type": "markdown",
   "id": "b70a78b7",
   "metadata": {},
   "source": [
    "من خلال التقييم نلاحظ أنَّ جودة البيانات عالية لا يوجد بيانات مفقودة أو خالية، عناوين الأعمدة واضحة ووصفية، نوع البيانات صحيح لكل عمود ماعدا عمود اليوم، لا يوجد تكرارات للبيانات.\n",
    "\n",
    "سأحتاج فقط لفصل اليوم و الشهر من عمود `اليوم` لاستخدامه في تحليلي، سأقوم بحذف السنة؛ لأنها ستكون لجميع البيانات ١٤٤٤هـ. "
   ]
  },
  {
   "cell_type": "markdown",
   "id": "39181f52",
   "metadata": {},
   "source": [
    "# تنظيف البيانات"
   ]
  },
  {
   "cell_type": "markdown",
   "id": "d95c1f0e",
   "metadata": {},
   "source": [
    "كما لاحظنا في القسم السابق أن البيانات نظيفة لا نحتاج إلا لفصل عمود `اليوم` إلى عمود للشهر وعمود لليوم لاحتياجي له في تحليلي وحذف عمود `اليوم` بعد الفصل"
   ]
  },
  {
   "cell_type": "code",
   "execution_count": 42,
   "id": "41e92c1c",
   "metadata": {},
   "outputs": [
    {
     "data": {
      "text/html": [
       "<div>\n",
       "<style scoped>\n",
       "    .dataframe tbody tr th:only-of-type {\n",
       "        vertical-align: middle;\n",
       "    }\n",
       "\n",
       "    .dataframe tbody tr th {\n",
       "        vertical-align: top;\n",
       "    }\n",
       "\n",
       "    .dataframe thead th {\n",
       "        text-align: right;\n",
       "    }\n",
       "</style>\n",
       "<table border=\"1\" class=\"dataframe\">\n",
       "  <thead>\n",
       "    <tr style=\"text-align: right;\">\n",
       "      <th></th>\n",
       "      <th>عدد التصاريح من نسك</th>\n",
       "      <th>نوع التصريح</th>\n",
       "      <th>الجنس</th>\n",
       "      <th>اليوم</th>\n",
       "      <th>الشهر</th>\n",
       "      <th>اليوم_</th>\n",
       "    </tr>\n",
       "  </thead>\n",
       "  <tbody>\n",
       "    <tr>\n",
       "      <th>0</th>\n",
       "      <td>10815</td>\n",
       "      <td>روضة رجال</td>\n",
       "      <td>ذكر</td>\n",
       "      <td>1444/1/3</td>\n",
       "      <td>1</td>\n",
       "      <td>3</td>\n",
       "    </tr>\n",
       "    <tr>\n",
       "      <th>1</th>\n",
       "      <td>10591</td>\n",
       "      <td>روضة نساء</td>\n",
       "      <td>أنثى</td>\n",
       "      <td>1444/2/4</td>\n",
       "      <td>2</td>\n",
       "      <td>4</td>\n",
       "    </tr>\n",
       "    <tr>\n",
       "      <th>2</th>\n",
       "      <td>73039</td>\n",
       "      <td>عمرة</td>\n",
       "      <td>ذكر</td>\n",
       "      <td>1444/1/7</td>\n",
       "      <td>1</td>\n",
       "      <td>7</td>\n",
       "    </tr>\n",
       "    <tr>\n",
       "      <th>3</th>\n",
       "      <td>8092</td>\n",
       "      <td>روضة رجال</td>\n",
       "      <td>ذكر</td>\n",
       "      <td>1444/1/16</td>\n",
       "      <td>1</td>\n",
       "      <td>16</td>\n",
       "    </tr>\n",
       "    <tr>\n",
       "      <th>4</th>\n",
       "      <td>14544</td>\n",
       "      <td>روضة نساء</td>\n",
       "      <td>أنثى</td>\n",
       "      <td>1444/3/12</td>\n",
       "      <td>3</td>\n",
       "      <td>12</td>\n",
       "    </tr>\n",
       "  </tbody>\n",
       "</table>\n",
       "</div>"
      ],
      "text/plain": [
       "   عدد التصاريح من نسك نوع التصريح الجنس      اليوم الشهر اليوم_\n",
       "0                10815   روضة رجال   ذكر   1444/1/3     1      3\n",
       "1                10591   روضة نساء  أنثى   1444/2/4     2      4\n",
       "2                73039        عمرة   ذكر   1444/1/7     1      7\n",
       "3                 8092   روضة رجال   ذكر  1444/1/16     1     16\n",
       "4                14544   روضة نساء  أنثى  1444/3/12     3     12"
      ]
     },
     "execution_count": 42,
     "metadata": {},
     "output_type": "execute_result"
    }
   ],
   "source": [
    "# Extract month and day from 'اليوم' column\n",
    "df[\"الشهر\"] = df[\"اليوم\"].apply(lambda x : x.split(\"/\")[1])\n",
    "df[\"اليوم_\"] = df[\"اليوم\"].apply(lambda x : x.split(\"/\")[2])\n",
    "\n",
    "# Check for Extracting\n",
    "df.head()"
   ]
  },
  {
   "cell_type": "code",
   "execution_count": 43,
   "id": "180b585d",
   "metadata": {},
   "outputs": [
    {
     "data": {
      "text/html": [
       "<div>\n",
       "<style scoped>\n",
       "    .dataframe tbody tr th:only-of-type {\n",
       "        vertical-align: middle;\n",
       "    }\n",
       "\n",
       "    .dataframe tbody tr th {\n",
       "        vertical-align: top;\n",
       "    }\n",
       "\n",
       "    .dataframe thead th {\n",
       "        text-align: right;\n",
       "    }\n",
       "</style>\n",
       "<table border=\"1\" class=\"dataframe\">\n",
       "  <thead>\n",
       "    <tr style=\"text-align: right;\">\n",
       "      <th></th>\n",
       "      <th>عدد التصاريح من نسك</th>\n",
       "      <th>نوع التصريح</th>\n",
       "      <th>الجنس</th>\n",
       "      <th>الشهر</th>\n",
       "      <th>اليوم_</th>\n",
       "    </tr>\n",
       "  </thead>\n",
       "  <tbody>\n",
       "    <tr>\n",
       "      <th>0</th>\n",
       "      <td>10815</td>\n",
       "      <td>روضة رجال</td>\n",
       "      <td>ذكر</td>\n",
       "      <td>1</td>\n",
       "      <td>3</td>\n",
       "    </tr>\n",
       "    <tr>\n",
       "      <th>1</th>\n",
       "      <td>10591</td>\n",
       "      <td>روضة نساء</td>\n",
       "      <td>أنثى</td>\n",
       "      <td>2</td>\n",
       "      <td>4</td>\n",
       "    </tr>\n",
       "    <tr>\n",
       "      <th>2</th>\n",
       "      <td>73039</td>\n",
       "      <td>عمرة</td>\n",
       "      <td>ذكر</td>\n",
       "      <td>1</td>\n",
       "      <td>7</td>\n",
       "    </tr>\n",
       "    <tr>\n",
       "      <th>3</th>\n",
       "      <td>8092</td>\n",
       "      <td>روضة رجال</td>\n",
       "      <td>ذكر</td>\n",
       "      <td>1</td>\n",
       "      <td>16</td>\n",
       "    </tr>\n",
       "    <tr>\n",
       "      <th>4</th>\n",
       "      <td>14544</td>\n",
       "      <td>روضة نساء</td>\n",
       "      <td>أنثى</td>\n",
       "      <td>3</td>\n",
       "      <td>12</td>\n",
       "    </tr>\n",
       "  </tbody>\n",
       "</table>\n",
       "</div>"
      ],
      "text/plain": [
       "   عدد التصاريح من نسك نوع التصريح الجنس الشهر اليوم_\n",
       "0                10815   روضة رجال   ذكر     1      3\n",
       "1                10591   روضة نساء  أنثى     2      4\n",
       "2                73039        عمرة   ذكر     1      7\n",
       "3                 8092   روضة رجال   ذكر     1     16\n",
       "4                14544   روضة نساء  أنثى     3     12"
      ]
     },
     "execution_count": 43,
     "metadata": {},
     "output_type": "execute_result"
    }
   ],
   "source": [
    "# Delete 'اليوم' column\n",
    "df.drop([\"اليوم\"], axis = 1, inplace = True)\n",
    "\n",
    "# Check for Deleting\n",
    "df.head()"
   ]
  },
  {
   "cell_type": "code",
   "execution_count": 47,
   "id": "0f810724",
   "metadata": {},
   "outputs": [
    {
     "name": "stdout",
     "output_type": "stream",
     "text": [
      "<class 'pandas.core.frame.DataFrame'>\n",
      "RangeIndex: 1719 entries, 0 to 1718\n",
      "Data columns (total 5 columns):\n",
      " #   Column               Non-Null Count  Dtype \n",
      "---  ------               --------------  ----- \n",
      " 0   عدد التصاريح من نسك  1719 non-null   int64 \n",
      " 1   نوع التصريح          1719 non-null   object\n",
      " 2   الجنس                1719 non-null   object\n",
      " 3   الشهر                1719 non-null   object\n",
      " 4   اليوم_               1719 non-null   object\n",
      "dtypes: int64(1), object(4)\n",
      "memory usage: 67.3+ KB\n"
     ]
    }
   ],
   "source": [
    "# Check for data type for the new two columns\n",
    "df.info()"
   ]
  },
  {
   "cell_type": "markdown",
   "id": "a7413e75",
   "metadata": {},
   "source": [
    "احتاج إلى تحويل نوع البيانات لعمود الشهر واليوم_  من نص إلى رقم صحيح"
   ]
  },
  {
   "cell_type": "code",
   "execution_count": 49,
   "id": "d24c5d4f",
   "metadata": {},
   "outputs": [
    {
     "name": "stdout",
     "output_type": "stream",
     "text": [
      "<class 'pandas.core.frame.DataFrame'>\n",
      "RangeIndex: 1719 entries, 0 to 1718\n",
      "Data columns (total 5 columns):\n",
      " #   Column               Non-Null Count  Dtype \n",
      "---  ------               --------------  ----- \n",
      " 0   عدد التصاريح من نسك  1719 non-null   int64 \n",
      " 1   نوع التصريح          1719 non-null   object\n",
      " 2   الجنس                1719 non-null   object\n",
      " 3   الشهر                1719 non-null   int64 \n",
      " 4   اليوم_               1719 non-null   int64 \n",
      "dtypes: int64(3), object(2)\n",
      "memory usage: 67.3+ KB\n"
     ]
    }
   ],
   "source": [
    "# Convert 'الشهر' and 'اليوم_' columns to int64\n",
    "df['الشهر'] = df['الشهر'].astype(int)\n",
    "df['اليوم_'] = df['اليوم_'].astype(int)\n",
    "df.info()"
   ]
  },
  {
   "cell_type": "markdown",
   "id": "02f5b717",
   "metadata": {},
   "source": [
    "### :ملخص التنظيف\n",
    "\n",
    "تم فصل الشهر واليوم من عمود `اليوم` إلى عمودين منفصلين، ومن ثم حذف عمود `اليوم`، بعد ذك تم تحويل نوع البيانات للعمودين الشهر واليوم إلى نوع رقم صحيح  "
   ]
  },
  {
   "cell_type": "markdown",
   "id": "77dfa682",
   "metadata": {},
   "source": [
    "# التحليل الإستكشافي للبيانات"
   ]
  },
  {
   "cell_type": "code",
   "execution_count": 45,
   "id": "5060ba45",
   "metadata": {},
   "outputs": [
    {
     "data": {
      "text/html": [
       "<div>\n",
       "<style scoped>\n",
       "    .dataframe tbody tr th:only-of-type {\n",
       "        vertical-align: middle;\n",
       "    }\n",
       "\n",
       "    .dataframe tbody tr th {\n",
       "        vertical-align: top;\n",
       "    }\n",
       "\n",
       "    .dataframe thead th {\n",
       "        text-align: right;\n",
       "    }\n",
       "</style>\n",
       "<table border=\"1\" class=\"dataframe\">\n",
       "  <thead>\n",
       "    <tr style=\"text-align: right;\">\n",
       "      <th></th>\n",
       "      <th>عدد التصاريح من نسك</th>\n",
       "    </tr>\n",
       "  </thead>\n",
       "  <tbody>\n",
       "    <tr>\n",
       "      <th>count</th>\n",
       "      <td>1719.000000</td>\n",
       "    </tr>\n",
       "    <tr>\n",
       "      <th>mean</th>\n",
       "      <td>18457.862711</td>\n",
       "    </tr>\n",
       "    <tr>\n",
       "      <th>std</th>\n",
       "      <td>22200.683072</td>\n",
       "    </tr>\n",
       "    <tr>\n",
       "      <th>min</th>\n",
       "      <td>1.000000</td>\n",
       "    </tr>\n",
       "    <tr>\n",
       "      <th>25%</th>\n",
       "      <td>8068.500000</td>\n",
       "    </tr>\n",
       "    <tr>\n",
       "      <th>50%</th>\n",
       "      <td>15467.000000</td>\n",
       "    </tr>\n",
       "    <tr>\n",
       "      <th>75%</th>\n",
       "      <td>21203.000000</td>\n",
       "    </tr>\n",
       "    <tr>\n",
       "      <th>max</th>\n",
       "      <td>160304.000000</td>\n",
       "    </tr>\n",
       "  </tbody>\n",
       "</table>\n",
       "</div>"
      ],
      "text/plain": [
       "       عدد التصاريح من نسك\n",
       "count          1719.000000\n",
       "mean          18457.862711\n",
       "std           22200.683072\n",
       "min               1.000000\n",
       "25%            8068.500000\n",
       "50%           15467.000000\n",
       "75%           21203.000000\n",
       "max          160304.000000"
      ]
     },
     "execution_count": 45,
     "metadata": {},
     "output_type": "execute_result"
    }
   ],
   "source": [
    "df.describe()"
   ]
  },
  {
   "cell_type": "markdown",
   "id": "80fd5b88",
   "metadata": {},
   "source": [
    "لعام ١٤٤٤هـ/ \n",
    "\n",
    "أقل عدد تصاريح من تطبيق نُسك كان تصريح واحد فقط \n",
    "\n",
    "أعلى عدد تصاريح من تطبيق نُسك كان 160,304 تصريح\n",
    "\n",
    "متوسط عدد التصاريح لهذا العام كان 18,457 تصريح"
   ]
  },
  {
   "cell_type": "code",
   "execution_count": 46,
   "id": "b0db4834",
   "metadata": {},
   "outputs": [
    {
     "ename": "KeyError",
     "evalue": "160304",
     "output_type": "error",
     "traceback": [
      "\u001b[0;31m---------------------------------------------------------------------------\u001b[0m",
      "\u001b[0;31mValueError\u001b[0m                                Traceback (most recent call last)",
      "File \u001b[0;32m~/anaconda3/lib/python3.11/site-packages/pandas/core/indexes/range.py:391\u001b[0m, in \u001b[0;36mRangeIndex.get_loc\u001b[0;34m(self, key, method, tolerance)\u001b[0m\n\u001b[1;32m    390\u001b[0m \u001b[38;5;28;01mtry\u001b[39;00m:\n\u001b[0;32m--> 391\u001b[0m     \u001b[38;5;28;01mreturn\u001b[39;00m \u001b[38;5;28mself\u001b[39m\u001b[38;5;241m.\u001b[39m_range\u001b[38;5;241m.\u001b[39mindex(new_key)\n\u001b[1;32m    392\u001b[0m \u001b[38;5;28;01mexcept\u001b[39;00m \u001b[38;5;167;01mValueError\u001b[39;00m \u001b[38;5;28;01mas\u001b[39;00m err:\n",
      "\u001b[0;31mValueError\u001b[0m: 160304 is not in range",
      "\nThe above exception was the direct cause of the following exception:\n",
      "\u001b[0;31mKeyError\u001b[0m                                  Traceback (most recent call last)",
      "Cell \u001b[0;32mIn[46], line 2\u001b[0m\n\u001b[1;32m      1\u001b[0m \u001b[38;5;66;03m# retrieving rows by loc method\u001b[39;00m\n\u001b[0;32m----> 2\u001b[0m max_permits \u001b[38;5;241m=\u001b[39m df\u001b[38;5;241m.\u001b[39mloc[\u001b[38;5;241m160304\u001b[39m]\n\u001b[1;32m      4\u001b[0m \u001b[38;5;66;03m# display\u001b[39;00m\n\u001b[1;32m      5\u001b[0m max_permits\n",
      "File \u001b[0;32m~/anaconda3/lib/python3.11/site-packages/pandas/core/indexing.py:1073\u001b[0m, in \u001b[0;36m_LocationIndexer.__getitem__\u001b[0;34m(self, key)\u001b[0m\n\u001b[1;32m   1070\u001b[0m axis \u001b[38;5;241m=\u001b[39m \u001b[38;5;28mself\u001b[39m\u001b[38;5;241m.\u001b[39maxis \u001b[38;5;129;01mor\u001b[39;00m \u001b[38;5;241m0\u001b[39m\n\u001b[1;32m   1072\u001b[0m maybe_callable \u001b[38;5;241m=\u001b[39m com\u001b[38;5;241m.\u001b[39mapply_if_callable(key, \u001b[38;5;28mself\u001b[39m\u001b[38;5;241m.\u001b[39mobj)\n\u001b[0;32m-> 1073\u001b[0m \u001b[38;5;28;01mreturn\u001b[39;00m \u001b[38;5;28mself\u001b[39m\u001b[38;5;241m.\u001b[39m_getitem_axis(maybe_callable, axis\u001b[38;5;241m=\u001b[39maxis)\n",
      "File \u001b[0;32m~/anaconda3/lib/python3.11/site-packages/pandas/core/indexing.py:1312\u001b[0m, in \u001b[0;36m_LocIndexer._getitem_axis\u001b[0;34m(self, key, axis)\u001b[0m\n\u001b[1;32m   1310\u001b[0m \u001b[38;5;66;03m# fall thru to straight lookup\u001b[39;00m\n\u001b[1;32m   1311\u001b[0m \u001b[38;5;28mself\u001b[39m\u001b[38;5;241m.\u001b[39m_validate_key(key, axis)\n\u001b[0;32m-> 1312\u001b[0m \u001b[38;5;28;01mreturn\u001b[39;00m \u001b[38;5;28mself\u001b[39m\u001b[38;5;241m.\u001b[39m_get_label(key, axis\u001b[38;5;241m=\u001b[39maxis)\n",
      "File \u001b[0;32m~/anaconda3/lib/python3.11/site-packages/pandas/core/indexing.py:1260\u001b[0m, in \u001b[0;36m_LocIndexer._get_label\u001b[0;34m(self, label, axis)\u001b[0m\n\u001b[1;32m   1258\u001b[0m \u001b[38;5;28;01mdef\u001b[39;00m \u001b[38;5;21m_get_label\u001b[39m(\u001b[38;5;28mself\u001b[39m, label, axis: \u001b[38;5;28mint\u001b[39m):\n\u001b[1;32m   1259\u001b[0m     \u001b[38;5;66;03m# GH#5567 this will fail if the label is not present in the axis.\u001b[39;00m\n\u001b[0;32m-> 1260\u001b[0m     \u001b[38;5;28;01mreturn\u001b[39;00m \u001b[38;5;28mself\u001b[39m\u001b[38;5;241m.\u001b[39mobj\u001b[38;5;241m.\u001b[39mxs(label, axis\u001b[38;5;241m=\u001b[39maxis)\n",
      "File \u001b[0;32m~/anaconda3/lib/python3.11/site-packages/pandas/core/generic.py:4056\u001b[0m, in \u001b[0;36mNDFrame.xs\u001b[0;34m(self, key, axis, level, drop_level)\u001b[0m\n\u001b[1;32m   4054\u001b[0m             new_index \u001b[38;5;241m=\u001b[39m index[loc]\n\u001b[1;32m   4055\u001b[0m \u001b[38;5;28;01melse\u001b[39;00m:\n\u001b[0;32m-> 4056\u001b[0m     loc \u001b[38;5;241m=\u001b[39m index\u001b[38;5;241m.\u001b[39mget_loc(key)\n\u001b[1;32m   4058\u001b[0m     \u001b[38;5;28;01mif\u001b[39;00m \u001b[38;5;28misinstance\u001b[39m(loc, np\u001b[38;5;241m.\u001b[39mndarray):\n\u001b[1;32m   4059\u001b[0m         \u001b[38;5;28;01mif\u001b[39;00m loc\u001b[38;5;241m.\u001b[39mdtype \u001b[38;5;241m==\u001b[39m np\u001b[38;5;241m.\u001b[39mbool_:\n",
      "File \u001b[0;32m~/anaconda3/lib/python3.11/site-packages/pandas/core/indexes/range.py:393\u001b[0m, in \u001b[0;36mRangeIndex.get_loc\u001b[0;34m(self, key, method, tolerance)\u001b[0m\n\u001b[1;32m    391\u001b[0m         \u001b[38;5;28;01mreturn\u001b[39;00m \u001b[38;5;28mself\u001b[39m\u001b[38;5;241m.\u001b[39m_range\u001b[38;5;241m.\u001b[39mindex(new_key)\n\u001b[1;32m    392\u001b[0m     \u001b[38;5;28;01mexcept\u001b[39;00m \u001b[38;5;167;01mValueError\u001b[39;00m \u001b[38;5;28;01mas\u001b[39;00m err:\n\u001b[0;32m--> 393\u001b[0m         \u001b[38;5;28;01mraise\u001b[39;00m \u001b[38;5;167;01mKeyError\u001b[39;00m(key) \u001b[38;5;28;01mfrom\u001b[39;00m \u001b[38;5;21;01merr\u001b[39;00m\n\u001b[1;32m    394\u001b[0m \u001b[38;5;28mself\u001b[39m\u001b[38;5;241m.\u001b[39m_check_indexing_error(key)\n\u001b[1;32m    395\u001b[0m \u001b[38;5;28;01mraise\u001b[39;00m \u001b[38;5;167;01mKeyError\u001b[39;00m(key)\n",
      "\u001b[0;31mKeyError\u001b[0m: 160304"
     ]
    }
   ],
   "source": [
    "# retrieving rows by loc method\n",
    "max_permits = df.loc[160304]\n",
    "\n",
    "# display\n",
    "max_permits"
   ]
  },
  {
   "cell_type": "markdown",
   "id": "8fde907c",
   "metadata": {},
   "source": [
    "كان أعلى عدد تصاريح من تطبيق نُسك هي عدد تصاريح العمرة التي تم إصدارها في يوم ٢٧ رمضان حيث كان عددها ما يقارب ١٦٠ ألف تصريح عمرة للرجال  "
   ]
  },
  {
   "cell_type": "code",
   "execution_count": null,
   "id": "a45d7446",
   "metadata": {},
   "outputs": [],
   "source": [
    "b = df.loc[df[\"اليوم\"] == \"1444/9/27\",:]\n",
    "b"
   ]
  },
  {
   "cell_type": "markdown",
   "id": "8fc57f5e",
   "metadata": {},
   "source": [
    "روضة نساء والحنس ذكر! فيه خطأ\n",
    "\n",
    "اتصاريح العمرة يوم ٢٧/٩ للنساء كانت مايقارب ٧٥ ألف تصريح عمرة"
   ]
  },
  {
   "cell_type": "code",
   "execution_count": null,
   "id": "791d12ef",
   "metadata": {},
   "outputs": [],
   "source": [
    "wrong_info = df.loc[(df[\"نوع التصريح\"] == \"روضة نساء\") & (df[\"الجنس\"] == \"ذكر\")]\n",
    "wrong_info"
   ]
  },
  {
   "cell_type": "code",
   "execution_count": null,
   "id": "fd023342",
   "metadata": {},
   "outputs": [],
   "source": [
    "wrong_info2 = df.loc[(df[\"نوع التصريح\"] == \"روضة رجال\") & (df[\"الجنس\"] == \"أنثى\")]\n",
    "wrong_info2"
   ]
  },
  {
   "cell_type": "code",
   "execution_count": 44,
   "id": "13d9fe7b",
   "metadata": {},
   "outputs": [
    {
     "data": {
      "image/png": "[encoded data removed]",
      "text/plain": [
       "<Figure size 640x480 with 1 Axes>"
      ]
     },
     "metadata": {},
     "output_type": "display_data"
    }
   ],
   "source": [
    "x = df.plot.bar(x='نوع التصريح', y='عدد التصاريح من نسك', rot=0)"
   ]
  }
 ],
 "metadata": {
  "kernelspec": {
   "display_name": "Python 3 (ipykernel)",
   "language": "python",
   "name": "python3"
  },
  "language_info": {
   "codemirror_mode": {
    "name": "ipython",
    "version": 3
   },
   "file_extension": ".py",
   "mimetype": "text/x-python",
   "name": "python",
   "nbconvert_exporter": "python",
   "pygments_lexer": "ipython3",
   "version": "3.11.4"
  }
 },
 "nbformat": 4,
 "nbformat_minor": 5
}
