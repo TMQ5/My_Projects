{
 "cells": [
  {
   "cell_type": "markdown",
   "id": "51380c05",
   "metadata": {},
   "source": [
    "# مشروع تحليل بيانات تصاريح تطبيق نُسُك لعام ١٤٤٤هـ "
   ]
  },
  {
   "cell_type": "code",
   "execution_count": 1,
   "id": "fd9382f4",
   "metadata": {},
   "outputs": [],
   "source": [
    "# Import necessary libraries\n",
    "import pandas as pd\n",
    "import numpy as np\n",
    "import seaborn as sns\n",
    "import matplotlib.pyplot as plt\n",
    "%matplotlib inline\n",
    "import arabic_reshaper\n",
    "from bidi.algorithm import get_display"
   ]
  },
  {
   "cell_type": "code",
   "execution_count": 2,
   "id": "cc052c27",
   "metadata": {},
   "outputs": [],
   "source": [
    "# Read csv file\n",
    "df = pd.read_csv('number-of-permits-from-the-nsk.csv')"
   ]
  },
  {
   "cell_type": "markdown",
   "id": "879d5241",
   "metadata": {},
   "source": [
    "# تقييم البيانات"
   ]
  },
  {
   "cell_type": "code",
   "execution_count": 3,
   "id": "57c5855e",
   "metadata": {},
   "outputs": [
    {
     "data": {
      "text/html": [
       "<div>\n",
       "<style scoped>\n",
       "    .dataframe tbody tr th:only-of-type {\n",
       "        vertical-align: middle;\n",
       "    }\n",
       "\n",
       "    .dataframe tbody tr th {\n",
       "        vertical-align: top;\n",
       "    }\n",
       "\n",
       "    .dataframe thead th {\n",
       "        text-align: right;\n",
       "    }\n",
       "</style>\n",
       "<table border=\"1\" class=\"dataframe\">\n",
       "  <thead>\n",
       "    <tr style=\"text-align: right;\">\n",
       "      <th></th>\n",
       "      <th>عدد التصاريح من نسك</th>\n",
       "      <th>نوع التصريح</th>\n",
       "      <th>الجنس</th>\n",
       "      <th>اليوم</th>\n",
       "    </tr>\n",
       "  </thead>\n",
       "  <tbody>\n",
       "    <tr>\n",
       "      <th>0</th>\n",
       "      <td>10815</td>\n",
       "      <td>روضة رجال</td>\n",
       "      <td>ذكر</td>\n",
       "      <td>1444/1/3</td>\n",
       "    </tr>\n",
       "    <tr>\n",
       "      <th>1</th>\n",
       "      <td>10591</td>\n",
       "      <td>روضة نساء</td>\n",
       "      <td>أنثى</td>\n",
       "      <td>1444/2/4</td>\n",
       "    </tr>\n",
       "    <tr>\n",
       "      <th>2</th>\n",
       "      <td>73039</td>\n",
       "      <td>عمرة</td>\n",
       "      <td>ذكر</td>\n",
       "      <td>1444/1/7</td>\n",
       "    </tr>\n",
       "    <tr>\n",
       "      <th>3</th>\n",
       "      <td>8092</td>\n",
       "      <td>روضة رجال</td>\n",
       "      <td>ذكر</td>\n",
       "      <td>1444/1/16</td>\n",
       "    </tr>\n",
       "    <tr>\n",
       "      <th>4</th>\n",
       "      <td>14544</td>\n",
       "      <td>روضة نساء</td>\n",
       "      <td>أنثى</td>\n",
       "      <td>1444/3/12</td>\n",
       "    </tr>\n",
       "  </tbody>\n",
       "</table>\n",
       "</div>"
      ],
      "text/plain": [
       "   عدد التصاريح من نسك نوع التصريح الجنس      اليوم\n",
       "0                10815   روضة رجال   ذكر   1444/1/3\n",
       "1                10591   روضة نساء  أنثى   1444/2/4\n",
       "2                73039        عمرة   ذكر   1444/1/7\n",
       "3                 8092   روضة رجال   ذكر  1444/1/16\n",
       "4                14544   روضة نساء  أنثى  1444/3/12"
      ]
     },
     "execution_count": 3,
     "metadata": {},
     "output_type": "execute_result"
    }
   ],
   "source": [
    "# Display the first five rows of the DataFrame using .head\n",
    "df.head()"
   ]
  },
  {
   "cell_type": "code",
   "execution_count": 4,
   "id": "ad78e6a1",
   "metadata": {},
   "outputs": [
    {
     "data": {
      "text/html": [
       "<div>\n",
       "<style scoped>\n",
       "    .dataframe tbody tr th:only-of-type {\n",
       "        vertical-align: middle;\n",
       "    }\n",
       "\n",
       "    .dataframe tbody tr th {\n",
       "        vertical-align: top;\n",
       "    }\n",
       "\n",
       "    .dataframe thead th {\n",
       "        text-align: right;\n",
       "    }\n",
       "</style>\n",
       "<table border=\"1\" class=\"dataframe\">\n",
       "  <thead>\n",
       "    <tr style=\"text-align: right;\">\n",
       "      <th></th>\n",
       "      <th>عدد التصاريح من نسك</th>\n",
       "      <th>نوع التصريح</th>\n",
       "      <th>الجنس</th>\n",
       "      <th>اليوم</th>\n",
       "    </tr>\n",
       "  </thead>\n",
       "  <tbody>\n",
       "    <tr>\n",
       "      <th>1714</th>\n",
       "      <td>1</td>\n",
       "      <td>روضة نساء</td>\n",
       "      <td>ذكر</td>\n",
       "      <td>1444/10/19</td>\n",
       "    </tr>\n",
       "    <tr>\n",
       "      <th>1715</th>\n",
       "      <td>1</td>\n",
       "      <td>روضة رجال</td>\n",
       "      <td>أنثى</td>\n",
       "      <td>1444/5/23</td>\n",
       "    </tr>\n",
       "    <tr>\n",
       "      <th>1716</th>\n",
       "      <td>1</td>\n",
       "      <td>روضة رجال</td>\n",
       "      <td>أنثى</td>\n",
       "      <td>1444/6/8</td>\n",
       "    </tr>\n",
       "    <tr>\n",
       "      <th>1717</th>\n",
       "      <td>1</td>\n",
       "      <td>روضة رجال</td>\n",
       "      <td>أنثى</td>\n",
       "      <td>1444/10/29</td>\n",
       "    </tr>\n",
       "    <tr>\n",
       "      <th>1718</th>\n",
       "      <td>1</td>\n",
       "      <td>روضة رجال</td>\n",
       "      <td>أنثى</td>\n",
       "      <td>1444/9/5</td>\n",
       "    </tr>\n",
       "  </tbody>\n",
       "</table>\n",
       "</div>"
      ],
      "text/plain": [
       "      عدد التصاريح من نسك نوع التصريح الجنس       اليوم\n",
       "1714                    1   روضة نساء   ذكر  1444/10/19\n",
       "1715                    1   روضة رجال  أنثى   1444/5/23\n",
       "1716                    1   روضة رجال  أنثى    1444/6/8\n",
       "1717                    1   روضة رجال  أنثى  1444/10/29\n",
       "1718                    1   روضة رجال  أنثى    1444/9/5"
      ]
     },
     "execution_count": 4,
     "metadata": {},
     "output_type": "execute_result"
    }
   ],
   "source": [
    "# Display the last five rows of the DataFrame using .tail\n",
    "df.tail()"
   ]
  },
  {
   "cell_type": "code",
   "execution_count": 5,
   "id": "0d74610c",
   "metadata": {},
   "outputs": [
    {
     "name": "stdout",
     "output_type": "stream",
     "text": [
      "<class 'pandas.core.frame.DataFrame'>\n",
      "RangeIndex: 1719 entries, 0 to 1718\n",
      "Data columns (total 4 columns):\n",
      " #   Column               Non-Null Count  Dtype \n",
      "---  ------               --------------  ----- \n",
      " 0   عدد التصاريح من نسك  1719 non-null   int64 \n",
      " 1   نوع التصريح          1719 non-null   object\n",
      " 2   الجنس                1719 non-null   object\n",
      " 3   اليوم                1719 non-null   object\n",
      "dtypes: int64(1), object(3)\n",
      "memory usage: 53.8+ KB\n"
     ]
    }
   ],
   "source": [
    "# Display a basic summary of the DataFrame using .info\n",
    "df.info()"
   ]
  },
  {
   "cell_type": "code",
   "execution_count": 39,
   "id": "a3150c88",
   "metadata": {
    "scrolled": false
   },
   "outputs": [
    {
     "data": {
      "text/plain": [
       "نوع التصريح\n",
       "عمرة         708\n",
       "روضة نساء    576\n",
       "روضة رجال    435\n",
       "Name: count, dtype: int64"
      ]
     },
     "execution_count": 39,
     "metadata": {},
     "output_type": "execute_result"
    }
   ],
   "source": [
    "# Display the entry counts using .value_counts\n",
    "df.value_counts(\"نوع التصريح\")"
   ]
  },
  {
   "cell_type": "code",
   "execution_count": 7,
   "id": "2a68d3e1",
   "metadata": {
    "scrolled": true
   },
   "outputs": [
    {
     "data": {
      "text/plain": [
       "الجنس\n",
       "ذكر     930\n",
       "أنثى    789\n",
       "Name: count, dtype: int64"
      ]
     },
     "execution_count": 7,
     "metadata": {},
     "output_type": "execute_result"
    }
   ],
   "source": [
    "# Display the entry counts using .value_counts\n",
    "df.value_counts(\"الجنس\")"
   ]
  },
  {
   "cell_type": "code",
   "execution_count": 8,
   "id": "f10cb6e0",
   "metadata": {},
   "outputs": [
    {
     "data": {
      "text/plain": [
       "عدد التصاريح من نسك    0\n",
       "نوع التصريح            0\n",
       "الجنس                  0\n",
       "اليوم                  0\n",
       "dtype: int64"
      ]
     },
     "execution_count": 8,
     "metadata": {},
     "output_type": "execute_result"
    }
   ],
   "source": [
    "# Count of missing values in each column\n",
    "df.isnull().sum()"
   ]
  },
  {
   "cell_type": "code",
   "execution_count": 9,
   "id": "e5b6e724",
   "metadata": {},
   "outputs": [
    {
     "data": {
      "text/plain": [
       "0"
      ]
     },
     "execution_count": 9,
     "metadata": {},
     "output_type": "execute_result"
    }
   ],
   "source": [
    "# Count of duplicate rows \n",
    "df.duplicated().sum()"
   ]
  },
  {
   "cell_type": "markdown",
   "id": "a48657e1",
   "metadata": {},
   "source": [
    "### :ملخص التقييم \n",
    "\n",
    "هناك ٤ أعمدة و ١٧١٩ صف \n",
    " \n",
    " :الأعمدة هي\n",
    " \n",
    " `عدد التصاريح من نسك` : عدد التصاريح التي تم إصدارها من تطبيق نُسك لعام ١٤٤٤هـ\n",
    "\n",
    " `نوع التصريح` : تصريح عمرة، تصريح زيارة للروضة للرجال، تصريح زيارة للروضة للنساء\n",
    "\n",
    " `الجنس` : ذكر و أنثى\n",
    "\n",
    " `اليوم` : تاريخ إصدار التصريح"
   ]
  },
  {
   "cell_type": "markdown",
   "id": "b70a78b7",
   "metadata": {},
   "source": [
    "من خلال التقييم نلاحظ أنَّ جودة البيانات عالية لا يوجد بيانات مفقودة أو خالية، عناوين الأعمدة واضحة ووصفية، نوع البيانات صحيح لكل عمود ماعدا عمود اليوم، لا يوجد تكرارات للبيانات.\n",
    "\n",
    "سأحتاج فقط لفصل اليوم و الشهر من عمود `اليوم` لاستخدامه في تحليلي، سأقوم بحذف السنة؛ لأنها ستكون لجميع البيانات ١٤٤٤هـ. "
   ]
  },
  {
   "cell_type": "markdown",
   "id": "39181f52",
   "metadata": {},
   "source": [
    "# تنظيف البيانات"
   ]
  },
  {
   "cell_type": "markdown",
   "id": "d95c1f0e",
   "metadata": {},
   "source": [
    "كما لاحظنا في القسم السابق أن البيانات نظيفة لا نحتاج إلا لفصل عمود `اليوم` إلى عمود للشهر وعمود لليوم لاحتياجي له في تحليلي وحذف عمود `اليوم` بعد الفصل"
   ]
  },
  {
   "cell_type": "code",
   "execution_count": 10,
   "id": "41e92c1c",
   "metadata": {},
   "outputs": [
    {
     "data": {
      "text/html": [
       "<div>\n",
       "<style scoped>\n",
       "    .dataframe tbody tr th:only-of-type {\n",
       "        vertical-align: middle;\n",
       "    }\n",
       "\n",
       "    .dataframe tbody tr th {\n",
       "        vertical-align: top;\n",
       "    }\n",
       "\n",
       "    .dataframe thead th {\n",
       "        text-align: right;\n",
       "    }\n",
       "</style>\n",
       "<table border=\"1\" class=\"dataframe\">\n",
       "  <thead>\n",
       "    <tr style=\"text-align: right;\">\n",
       "      <th></th>\n",
       "      <th>عدد التصاريح من نسك</th>\n",
       "      <th>نوع التصريح</th>\n",
       "      <th>الجنس</th>\n",
       "      <th>اليوم</th>\n",
       "      <th>الشهر</th>\n",
       "      <th>اليوم_</th>\n",
       "    </tr>\n",
       "  </thead>\n",
       "  <tbody>\n",
       "    <tr>\n",
       "      <th>0</th>\n",
       "      <td>10815</td>\n",
       "      <td>روضة رجال</td>\n",
       "      <td>ذكر</td>\n",
       "      <td>1444/1/3</td>\n",
       "      <td>1</td>\n",
       "      <td>3</td>\n",
       "    </tr>\n",
       "    <tr>\n",
       "      <th>1</th>\n",
       "      <td>10591</td>\n",
       "      <td>روضة نساء</td>\n",
       "      <td>أنثى</td>\n",
       "      <td>1444/2/4</td>\n",
       "      <td>2</td>\n",
       "      <td>4</td>\n",
       "    </tr>\n",
       "    <tr>\n",
       "      <th>2</th>\n",
       "      <td>73039</td>\n",
       "      <td>عمرة</td>\n",
       "      <td>ذكر</td>\n",
       "      <td>1444/1/7</td>\n",
       "      <td>1</td>\n",
       "      <td>7</td>\n",
       "    </tr>\n",
       "    <tr>\n",
       "      <th>3</th>\n",
       "      <td>8092</td>\n",
       "      <td>روضة رجال</td>\n",
       "      <td>ذكر</td>\n",
       "      <td>1444/1/16</td>\n",
       "      <td>1</td>\n",
       "      <td>16</td>\n",
       "    </tr>\n",
       "    <tr>\n",
       "      <th>4</th>\n",
       "      <td>14544</td>\n",
       "      <td>روضة نساء</td>\n",
       "      <td>أنثى</td>\n",
       "      <td>1444/3/12</td>\n",
       "      <td>3</td>\n",
       "      <td>12</td>\n",
       "    </tr>\n",
       "  </tbody>\n",
       "</table>\n",
       "</div>"
      ],
      "text/plain": [
       "   عدد التصاريح من نسك نوع التصريح الجنس      اليوم الشهر اليوم_\n",
       "0                10815   روضة رجال   ذكر   1444/1/3     1      3\n",
       "1                10591   روضة نساء  أنثى   1444/2/4     2      4\n",
       "2                73039        عمرة   ذكر   1444/1/7     1      7\n",
       "3                 8092   روضة رجال   ذكر  1444/1/16     1     16\n",
       "4                14544   روضة نساء  أنثى  1444/3/12     3     12"
      ]
     },
     "execution_count": 10,
     "metadata": {},
     "output_type": "execute_result"
    }
   ],
   "source": [
    "# Extract month and day from 'اليوم' column\n",
    "df[\"الشهر\"] = df[\"اليوم\"].apply(lambda x : x.split(\"/\")[1])\n",
    "df[\"اليوم_\"] = df[\"اليوم\"].apply(lambda x : x.split(\"/\")[2])\n",
    "\n",
    "# Check for Extracting\n",
    "df.head()"
   ]
  },
  {
   "cell_type": "code",
   "execution_count": 11,
   "id": "180b585d",
   "metadata": {},
   "outputs": [
    {
     "data": {
      "text/html": [
       "<div>\n",
       "<style scoped>\n",
       "    .dataframe tbody tr th:only-of-type {\n",
       "        vertical-align: middle;\n",
       "    }\n",
       "\n",
       "    .dataframe tbody tr th {\n",
       "        vertical-align: top;\n",
       "    }\n",
       "\n",
       "    .dataframe thead th {\n",
       "        text-align: right;\n",
       "    }\n",
       "</style>\n",
       "<table border=\"1\" class=\"dataframe\">\n",
       "  <thead>\n",
       "    <tr style=\"text-align: right;\">\n",
       "      <th></th>\n",
       "      <th>عدد التصاريح من نسك</th>\n",
       "      <th>نوع التصريح</th>\n",
       "      <th>الجنس</th>\n",
       "      <th>الشهر</th>\n",
       "      <th>اليوم_</th>\n",
       "    </tr>\n",
       "  </thead>\n",
       "  <tbody>\n",
       "    <tr>\n",
       "      <th>0</th>\n",
       "      <td>10815</td>\n",
       "      <td>روضة رجال</td>\n",
       "      <td>ذكر</td>\n",
       "      <td>1</td>\n",
       "      <td>3</td>\n",
       "    </tr>\n",
       "    <tr>\n",
       "      <th>1</th>\n",
       "      <td>10591</td>\n",
       "      <td>روضة نساء</td>\n",
       "      <td>أنثى</td>\n",
       "      <td>2</td>\n",
       "      <td>4</td>\n",
       "    </tr>\n",
       "    <tr>\n",
       "      <th>2</th>\n",
       "      <td>73039</td>\n",
       "      <td>عمرة</td>\n",
       "      <td>ذكر</td>\n",
       "      <td>1</td>\n",
       "      <td>7</td>\n",
       "    </tr>\n",
       "    <tr>\n",
       "      <th>3</th>\n",
       "      <td>8092</td>\n",
       "      <td>روضة رجال</td>\n",
       "      <td>ذكر</td>\n",
       "      <td>1</td>\n",
       "      <td>16</td>\n",
       "    </tr>\n",
       "    <tr>\n",
       "      <th>4</th>\n",
       "      <td>14544</td>\n",
       "      <td>روضة نساء</td>\n",
       "      <td>أنثى</td>\n",
       "      <td>3</td>\n",
       "      <td>12</td>\n",
       "    </tr>\n",
       "  </tbody>\n",
       "</table>\n",
       "</div>"
      ],
      "text/plain": [
       "   عدد التصاريح من نسك نوع التصريح الجنس الشهر اليوم_\n",
       "0                10815   روضة رجال   ذكر     1      3\n",
       "1                10591   روضة نساء  أنثى     2      4\n",
       "2                73039        عمرة   ذكر     1      7\n",
       "3                 8092   روضة رجال   ذكر     1     16\n",
       "4                14544   روضة نساء  أنثى     3     12"
      ]
     },
     "execution_count": 11,
     "metadata": {},
     "output_type": "execute_result"
    }
   ],
   "source": [
    "# Delete 'اليوم' column\n",
    "df.drop([\"اليوم\"], axis = 1, inplace = True)\n",
    "\n",
    "# Check for Deleting\n",
    "df.head()"
   ]
  },
  {
   "cell_type": "code",
   "execution_count": 12,
   "id": "bd3139a9",
   "metadata": {},
   "outputs": [
    {
     "data": {
      "text/plain": [
       "عدد التصاريح من نسك     int64\n",
       "نوع التصريح            object\n",
       "الجنس                  object\n",
       "الشهر                  object\n",
       "اليوم_                 object\n",
       "dtype: object"
      ]
     },
     "execution_count": 12,
     "metadata": {},
     "output_type": "execute_result"
    }
   ],
   "source": [
    "# Check for column dtypes\n",
    "df.dtypes"
   ]
  },
  {
   "cell_type": "markdown",
   "id": "bdbe5971",
   "metadata": {},
   "source": [
    "نحتاج إلى تحويل نوع البيانات لعمود الشهر واليوم_  من نص إلى رقم صحيح"
   ]
  },
  {
   "cell_type": "code",
   "execution_count": 13,
   "id": "2c28398d",
   "metadata": {},
   "outputs": [
    {
     "data": {
      "text/plain": [
       "عدد التصاريح من نسك     int64\n",
       "نوع التصريح            object\n",
       "الجنس                  object\n",
       "الشهر                   int64\n",
       "اليوم_                  int64\n",
       "dtype: object"
      ]
     },
     "execution_count": 13,
     "metadata": {},
     "output_type": "execute_result"
    }
   ],
   "source": [
    "# Convert 'الشهر' and 'اليوم_' columns to int64\n",
    "df['الشهر'] = df['الشهر'].astype(int)\n",
    "df['اليوم_'] = df['اليوم_'].astype(int)\n",
    "\n",
    "# Check for column dtypes\n",
    "df.dtypes"
   ]
  },
  {
   "cell_type": "markdown",
   "id": "1c820350",
   "metadata": {},
   "source": [
    "# التحليل الإستكشافي للبيانات"
   ]
  },
  {
   "cell_type": "markdown",
   "id": "dcdbb665",
   "metadata": {},
   "source": [
    "### ماهو إجمالي عدد التصاريح التي تم إصداراها من تطبيق نُسُك في عام ١٤٤٤هـ؟"
   ]
  },
  {
   "cell_type": "code",
   "execution_count": 14,
   "id": "4f106819",
   "metadata": {},
   "outputs": [
    {
     "data": {
      "text/plain": [
       "31729066"
      ]
     },
     "execution_count": 14,
     "metadata": {},
     "output_type": "execute_result"
    }
   ],
   "source": [
    "# Sum all permints issued in 1444 Hijri\n",
    "total_permits = df['عدد التصاريح من نسك'].sum()\n",
    "total_permits"
   ]
  },
  {
   "cell_type": "markdown",
   "id": "f249dab3",
   "metadata": {},
   "source": [
    ".في عام ١٤٤٤هـ تم إصدار مايقارب ٣٢ مليون تصريح من تطبيق نُسُك"
   ]
  },
  {
   "cell_type": "code",
   "execution_count": 15,
   "id": "e2183efe",
   "metadata": {},
   "outputs": [
    {
     "data": {
      "text/html": [
       "<div>\n",
       "<style scoped>\n",
       "    .dataframe tbody tr th:only-of-type {\n",
       "        vertical-align: middle;\n",
       "    }\n",
       "\n",
       "    .dataframe tbody tr th {\n",
       "        vertical-align: top;\n",
       "    }\n",
       "\n",
       "    .dataframe thead tr th {\n",
       "        text-align: left;\n",
       "    }\n",
       "\n",
       "    .dataframe thead tr:last-of-type th {\n",
       "        text-align: right;\n",
       "    }\n",
       "</style>\n",
       "<table border=\"1\" class=\"dataframe\">\n",
       "  <thead>\n",
       "    <tr>\n",
       "      <th></th>\n",
       "      <th>عدد التصاريح من نسك</th>\n",
       "    </tr>\n",
       "    <tr>\n",
       "      <th></th>\n",
       "      <th>sum</th>\n",
       "    </tr>\n",
       "    <tr>\n",
       "      <th>نوع التصريح</th>\n",
       "      <th></th>\n",
       "    </tr>\n",
       "  </thead>\n",
       "  <tbody>\n",
       "    <tr>\n",
       "      <th>روضة رجال</th>\n",
       "      <td>4964037</td>\n",
       "    </tr>\n",
       "    <tr>\n",
       "      <th>روضة نساء</th>\n",
       "      <td>4930131</td>\n",
       "    </tr>\n",
       "    <tr>\n",
       "      <th>عمرة</th>\n",
       "      <td>21834898</td>\n",
       "    </tr>\n",
       "  </tbody>\n",
       "</table>\n",
       "</div>"
      ],
      "text/plain": [
       "            عدد التصاريح من نسك\n",
       "                            sum\n",
       "نوع التصريح                    \n",
       "روضة رجال               4964037\n",
       "روضة نساء               4930131\n",
       "عمرة                   21834898"
      ]
     },
     "execution_count": 15,
     "metadata": {},
     "output_type": "execute_result"
    }
   ],
   "source": [
    "total_types= df.groupby('نوع التصريح').agg({'عدد التصاريح من نسك': ['sum']})\n",
    "total_types"
   ]
  },
  {
   "cell_type": "code",
   "execution_count": 16,
   "id": "08490562",
   "metadata": {},
   "outputs": [
    {
     "data": {
      "text/plain": [
       "<Axes: ylabel='عدد التصاريح من نسك'>"
      ]
     },
     "execution_count": 16,
     "metadata": {},
     "output_type": "execute_result"
    },
    {
     "data": {
      "image/png": "[encoded data removed]",
      "text/plain": [
       "<Figure size 640x480 with 1 Axes>"
      ]
     },
     "metadata": {},
     "output_type": "display_data"
    }
   ],
   "source": [
    "pie_types =df.groupby(['نوع التصريح']).sum().plot(kind='pie', y='عدد التصاريح من نسك',autopct='%1.0f%%')\n",
    "pie_types"
   ]
  },
  {
   "cell_type": "markdown",
   "id": "783e8f1d",
   "metadata": {},
   "source": [
    "### ماهو أقل وأعلى عدد تصريح تم إصداره من تطبيق نُسُك؟ وماهو المتوسط لعدد التصاريح؟"
   ]
  },
  {
   "cell_type": "code",
   "execution_count": 17,
   "id": "5060ba45",
   "metadata": {},
   "outputs": [
    {
     "data": {
      "text/plain": [
       "count      1719.000000\n",
       "mean      18457.862711\n",
       "std       22200.683072\n",
       "min           1.000000\n",
       "25%        8068.500000\n",
       "50%       15467.000000\n",
       "75%       21203.000000\n",
       "max      160304.000000\n",
       "Name: عدد التصاريح من نسك, dtype: float64"
      ]
     },
     "execution_count": 17,
     "metadata": {},
     "output_type": "execute_result"
    }
   ],
   "source": [
    "# Calculate descriptive statistics for each numeric variable\n",
    "df['عدد التصاريح من نسك'].describe()"
   ]
  },
  {
   "cell_type": "markdown",
   "id": "80fd5b88",
   "metadata": {},
   "source": [
    ":عام ١٤٤٤هـ\n",
    "\n",
    "أقل عدد تصاريح من تطبيق نُسك كان **تصريح واحد** فقط \n",
    "\n",
    "أعلى عدد تصاريح من تطبيق نُسك كان **160,304** تصريح\n",
    "\n",
    "متوسط عدد التصاريح لهذا العام كان **18,457** تصريح"
   ]
  },
  {
   "cell_type": "markdown",
   "id": "57baadd2",
   "metadata": {},
   "source": [
    "### ماهو نوع التصريح الذي يملك أعلى عدد تصاريح وماهو تاريخ إصداره؟"
   ]
  },
  {
   "cell_type": "code",
   "execution_count": 18,
   "id": "b0db4834",
   "metadata": {},
   "outputs": [
    {
     "data": {
      "text/html": [
       "<div>\n",
       "<style scoped>\n",
       "    .dataframe tbody tr th:only-of-type {\n",
       "        vertical-align: middle;\n",
       "    }\n",
       "\n",
       "    .dataframe tbody tr th {\n",
       "        vertical-align: top;\n",
       "    }\n",
       "\n",
       "    .dataframe thead th {\n",
       "        text-align: right;\n",
       "    }\n",
       "</style>\n",
       "<table border=\"1\" class=\"dataframe\">\n",
       "  <thead>\n",
       "    <tr style=\"text-align: right;\">\n",
       "      <th></th>\n",
       "      <th>عدد التصاريح من نسك</th>\n",
       "      <th>نوع التصريح</th>\n",
       "      <th>الجنس</th>\n",
       "      <th>الشهر</th>\n",
       "      <th>اليوم_</th>\n",
       "    </tr>\n",
       "  </thead>\n",
       "  <tbody>\n",
       "    <tr>\n",
       "      <th>1430</th>\n",
       "      <td>160304</td>\n",
       "      <td>عمرة</td>\n",
       "      <td>ذكر</td>\n",
       "      <td>9</td>\n",
       "      <td>27</td>\n",
       "    </tr>\n",
       "  </tbody>\n",
       "</table>\n",
       "</div>"
      ],
      "text/plain": [
       "      عدد التصاريح من نسك نوع التصريح الجنس  الشهر  اليوم_\n",
       "1430               160304        عمرة   ذكر      9      27"
      ]
     },
     "execution_count": 18,
     "metadata": {},
     "output_type": "execute_result"
    }
   ],
   "source": [
    "# retrieving rows by loc method\n",
    "max_permits = df.loc[df[\"عدد التصاريح من نسك\"] == 160304,:]\n",
    "\n",
    "\n",
    "# display\n",
    "max_permits"
   ]
  },
  {
   "cell_type": "markdown",
   "id": "8fde907c",
   "metadata": {},
   "source": [
    "كان أعلى عدد تصاريح من تطبيق نُسك هي عدد تصاريح العمرة التي تم إصدارها في يوم ٢٧ رمضان حيث كان عددها ما يقارب ١٦٠ ألف تصريح عمرة للرجال  "
   ]
  },
  {
   "cell_type": "code",
   "execution_count": 19,
   "id": "a45d7446",
   "metadata": {},
   "outputs": [
    {
     "data": {
      "text/html": [
       "<div>\n",
       "<style scoped>\n",
       "    .dataframe tbody tr th:only-of-type {\n",
       "        vertical-align: middle;\n",
       "    }\n",
       "\n",
       "    .dataframe tbody tr th {\n",
       "        vertical-align: top;\n",
       "    }\n",
       "\n",
       "    .dataframe thead th {\n",
       "        text-align: right;\n",
       "    }\n",
       "</style>\n",
       "<table border=\"1\" class=\"dataframe\">\n",
       "  <thead>\n",
       "    <tr style=\"text-align: right;\">\n",
       "      <th></th>\n",
       "      <th>عدد التصاريح من نسك</th>\n",
       "      <th>نوع التصريح</th>\n",
       "      <th>الجنس</th>\n",
       "      <th>الشهر</th>\n",
       "      <th>اليوم_</th>\n",
       "    </tr>\n",
       "  </thead>\n",
       "  <tbody>\n",
       "    <tr>\n",
       "      <th>1430</th>\n",
       "      <td>160304</td>\n",
       "      <td>عمرة</td>\n",
       "      <td>ذكر</td>\n",
       "      <td>9</td>\n",
       "      <td>27</td>\n",
       "    </tr>\n",
       "    <tr>\n",
       "      <th>1631</th>\n",
       "      <td>75344</td>\n",
       "      <td>عمرة</td>\n",
       "      <td>أنثى</td>\n",
       "      <td>9</td>\n",
       "      <td>27</td>\n",
       "    </tr>\n",
       "  </tbody>\n",
       "</table>\n",
       "</div>"
      ],
      "text/plain": [
       "      عدد التصاريح من نسك نوع التصريح الجنس  الشهر  اليوم_\n",
       "1430               160304        عمرة   ذكر      9      27\n",
       "1631                75344        عمرة  أنثى      9      27"
      ]
     },
     "execution_count": 19,
     "metadata": {},
     "output_type": "execute_result"
    }
   ],
   "source": [
    "b = df.loc[(df[\"اليوم_\"] == 27) & (df[\"الشهر\"] == 9) & (df[\"نوع التصريح\"] == \"عمرة\")]\n",
    "b"
   ]
  },
  {
   "cell_type": "markdown",
   "id": "8fc57f5e",
   "metadata": {},
   "source": [
    "\n",
    "تصاريح العمرة للنساء في يوم ٢٧ رمضان كانت مايقارب ٧٥ ألف تصريح عمرة"
   ]
  },
  {
   "cell_type": "markdown",
   "id": "0d673d1b",
   "metadata": {},
   "source": [
    "###  هل هناك "
   ]
  },
  {
   "cell_type": "code",
   "execution_count": 37,
   "id": "791d12ef",
   "metadata": {},
   "outputs": [
    {
     "data": {
      "text/html": [
       "<div>\n",
       "<style scoped>\n",
       "    .dataframe tbody tr th:only-of-type {\n",
       "        vertical-align: middle;\n",
       "    }\n",
       "\n",
       "    .dataframe tbody tr th {\n",
       "        vertical-align: top;\n",
       "    }\n",
       "\n",
       "    .dataframe thead th {\n",
       "        text-align: right;\n",
       "    }\n",
       "</style>\n",
       "<table border=\"1\" class=\"dataframe\">\n",
       "  <thead>\n",
       "    <tr style=\"text-align: right;\">\n",
       "      <th></th>\n",
       "      <th>عدد التصاريح من نسك</th>\n",
       "      <th>نوع التصريح</th>\n",
       "      <th>الجنس</th>\n",
       "      <th>الشهر</th>\n",
       "      <th>اليوم_</th>\n",
       "    </tr>\n",
       "  </thead>\n",
       "  <tbody>\n",
       "    <tr>\n",
       "      <th>190</th>\n",
       "      <td>41</td>\n",
       "      <td>روضة نساء</td>\n",
       "      <td>ذكر</td>\n",
       "      <td>1</td>\n",
       "      <td>13</td>\n",
       "    </tr>\n",
       "    <tr>\n",
       "      <th>191</th>\n",
       "      <td>41</td>\n",
       "      <td>روضة نساء</td>\n",
       "      <td>ذكر</td>\n",
       "      <td>6</td>\n",
       "      <td>25</td>\n",
       "    </tr>\n",
       "    <tr>\n",
       "      <th>192</th>\n",
       "      <td>2</td>\n",
       "      <td>روضة نساء</td>\n",
       "      <td>ذكر</td>\n",
       "      <td>7</td>\n",
       "      <td>23</td>\n",
       "    </tr>\n",
       "    <tr>\n",
       "      <th>193</th>\n",
       "      <td>5</td>\n",
       "      <td>روضة نساء</td>\n",
       "      <td>ذكر</td>\n",
       "      <td>6</td>\n",
       "      <td>4</td>\n",
       "    </tr>\n",
       "    <tr>\n",
       "      <th>194</th>\n",
       "      <td>17</td>\n",
       "      <td>روضة نساء</td>\n",
       "      <td>ذكر</td>\n",
       "      <td>5</td>\n",
       "      <td>14</td>\n",
       "    </tr>\n",
       "    <tr>\n",
       "      <th>...</th>\n",
       "      <td>...</td>\n",
       "      <td>...</td>\n",
       "      <td>...</td>\n",
       "      <td>...</td>\n",
       "      <td>...</td>\n",
       "    </tr>\n",
       "    <tr>\n",
       "      <th>1707</th>\n",
       "      <td>1</td>\n",
       "      <td>روضة نساء</td>\n",
       "      <td>ذكر</td>\n",
       "      <td>10</td>\n",
       "      <td>17</td>\n",
       "    </tr>\n",
       "    <tr>\n",
       "      <th>1708</th>\n",
       "      <td>1</td>\n",
       "      <td>روضة نساء</td>\n",
       "      <td>ذكر</td>\n",
       "      <td>4</td>\n",
       "      <td>19</td>\n",
       "    </tr>\n",
       "    <tr>\n",
       "      <th>1709</th>\n",
       "      <td>1</td>\n",
       "      <td>روضة نساء</td>\n",
       "      <td>ذكر</td>\n",
       "      <td>8</td>\n",
       "      <td>24</td>\n",
       "    </tr>\n",
       "    <tr>\n",
       "      <th>1710</th>\n",
       "      <td>1</td>\n",
       "      <td>روضة نساء</td>\n",
       "      <td>ذكر</td>\n",
       "      <td>12</td>\n",
       "      <td>3</td>\n",
       "    </tr>\n",
       "    <tr>\n",
       "      <th>1714</th>\n",
       "      <td>1</td>\n",
       "      <td>روضة نساء</td>\n",
       "      <td>ذكر</td>\n",
       "      <td>10</td>\n",
       "      <td>19</td>\n",
       "    </tr>\n",
       "  </tbody>\n",
       "</table>\n",
       "<p>226 rows × 5 columns</p>\n",
       "</div>"
      ],
      "text/plain": [
       "      عدد التصاريح من نسك نوع التصريح الجنس  الشهر  اليوم_\n",
       "190                    41   روضة نساء   ذكر      1      13\n",
       "191                    41   روضة نساء   ذكر      6      25\n",
       "192                     2   روضة نساء   ذكر      7      23\n",
       "193                     5   روضة نساء   ذكر      6       4\n",
       "194                    17   روضة نساء   ذكر      5      14\n",
       "...                   ...         ...   ...    ...     ...\n",
       "1707                    1   روضة نساء   ذكر     10      17\n",
       "1708                    1   روضة نساء   ذكر      4      19\n",
       "1709                    1   روضة نساء   ذكر      8      24\n",
       "1710                    1   روضة نساء   ذكر     12       3\n",
       "1714                    1   روضة نساء   ذكر     10      19\n",
       "\n",
       "[226 rows x 5 columns]"
      ]
     },
     "execution_count": 37,
     "metadata": {},
     "output_type": "execute_result"
    }
   ],
   "source": [
    "male = df.loc[(df[\"نوع التصريح\"] == \"روضة نساء\") & (df[\"الجنس\"] == \"ذكر\")]\n",
    "male"
   ]
  },
  {
   "cell_type": "code",
   "execution_count": 21,
   "id": "fd023342",
   "metadata": {},
   "outputs": [
    {
     "data": {
      "text/html": [
       "<div>\n",
       "<style scoped>\n",
       "    .dataframe tbody tr th:only-of-type {\n",
       "        vertical-align: middle;\n",
       "    }\n",
       "\n",
       "    .dataframe tbody tr th {\n",
       "        vertical-align: top;\n",
       "    }\n",
       "\n",
       "    .dataframe thead th {\n",
       "        text-align: right;\n",
       "    }\n",
       "</style>\n",
       "<table border=\"1\" class=\"dataframe\">\n",
       "  <thead>\n",
       "    <tr style=\"text-align: right;\">\n",
       "      <th></th>\n",
       "      <th>عدد التصاريح من نسك</th>\n",
       "      <th>نوع التصريح</th>\n",
       "      <th>الجنس</th>\n",
       "      <th>الشهر</th>\n",
       "      <th>اليوم_</th>\n",
       "    </tr>\n",
       "  </thead>\n",
       "  <tbody>\n",
       "    <tr>\n",
       "      <th>213</th>\n",
       "      <td>2</td>\n",
       "      <td>روضة رجال</td>\n",
       "      <td>أنثى</td>\n",
       "      <td>1</td>\n",
       "      <td>8</td>\n",
       "    </tr>\n",
       "    <tr>\n",
       "      <th>214</th>\n",
       "      <td>5</td>\n",
       "      <td>روضة رجال</td>\n",
       "      <td>أنثى</td>\n",
       "      <td>1</td>\n",
       "      <td>14</td>\n",
       "    </tr>\n",
       "    <tr>\n",
       "      <th>215</th>\n",
       "      <td>1</td>\n",
       "      <td>روضة رجال</td>\n",
       "      <td>أنثى</td>\n",
       "      <td>4</td>\n",
       "      <td>1</td>\n",
       "    </tr>\n",
       "    <tr>\n",
       "      <th>216</th>\n",
       "      <td>1</td>\n",
       "      <td>روضة رجال</td>\n",
       "      <td>أنثى</td>\n",
       "      <td>10</td>\n",
       "      <td>5</td>\n",
       "    </tr>\n",
       "    <tr>\n",
       "      <th>217</th>\n",
       "      <td>1</td>\n",
       "      <td>روضة رجال</td>\n",
       "      <td>أنثى</td>\n",
       "      <td>10</td>\n",
       "      <td>6</td>\n",
       "    </tr>\n",
       "    <tr>\n",
       "      <th>...</th>\n",
       "      <td>...</td>\n",
       "      <td>...</td>\n",
       "      <td>...</td>\n",
       "      <td>...</td>\n",
       "      <td>...</td>\n",
       "    </tr>\n",
       "    <tr>\n",
       "      <th>1713</th>\n",
       "      <td>1</td>\n",
       "      <td>روضة رجال</td>\n",
       "      <td>أنثى</td>\n",
       "      <td>10</td>\n",
       "      <td>25</td>\n",
       "    </tr>\n",
       "    <tr>\n",
       "      <th>1715</th>\n",
       "      <td>1</td>\n",
       "      <td>روضة رجال</td>\n",
       "      <td>أنثى</td>\n",
       "      <td>5</td>\n",
       "      <td>23</td>\n",
       "    </tr>\n",
       "    <tr>\n",
       "      <th>1716</th>\n",
       "      <td>1</td>\n",
       "      <td>روضة رجال</td>\n",
       "      <td>أنثى</td>\n",
       "      <td>6</td>\n",
       "      <td>8</td>\n",
       "    </tr>\n",
       "    <tr>\n",
       "      <th>1717</th>\n",
       "      <td>1</td>\n",
       "      <td>روضة رجال</td>\n",
       "      <td>أنثى</td>\n",
       "      <td>10</td>\n",
       "      <td>29</td>\n",
       "    </tr>\n",
       "    <tr>\n",
       "      <th>1718</th>\n",
       "      <td>1</td>\n",
       "      <td>روضة رجال</td>\n",
       "      <td>أنثى</td>\n",
       "      <td>9</td>\n",
       "      <td>5</td>\n",
       "    </tr>\n",
       "  </tbody>\n",
       "</table>\n",
       "<p>85 rows × 5 columns</p>\n",
       "</div>"
      ],
      "text/plain": [
       "      عدد التصاريح من نسك نوع التصريح الجنس  الشهر  اليوم_\n",
       "213                     2   روضة رجال  أنثى      1       8\n",
       "214                     5   روضة رجال  أنثى      1      14\n",
       "215                     1   روضة رجال  أنثى      4       1\n",
       "216                     1   روضة رجال  أنثى     10       5\n",
       "217                     1   روضة رجال  أنثى     10       6\n",
       "...                   ...         ...   ...    ...     ...\n",
       "1713                    1   روضة رجال  أنثى     10      25\n",
       "1715                    1   روضة رجال  أنثى      5      23\n",
       "1716                    1   روضة رجال  أنثى      6       8\n",
       "1717                    1   روضة رجال  أنثى     10      29\n",
       "1718                    1   روضة رجال  أنثى      9       5\n",
       "\n",
       "[85 rows x 5 columns]"
      ]
     },
     "execution_count": 21,
     "metadata": {},
     "output_type": "execute_result"
    }
   ],
   "source": [
    "female = df.loc[(df[\"نوع التصريح\"] == \"روضة رجال\") & (df[\"الجنس\"] == \"أنثى\")]\n",
    "female"
   ]
  },
  {
   "cell_type": "code",
   "execution_count": 22,
   "id": "34ff25d3",
   "metadata": {},
   "outputs": [],
   "source": [
    "# Define a function that reshape arabic columns \n",
    "def f(x):\n",
    "    out=get_display( arabic_reshaper.reshape(x))\n",
    "    return(out)"
   ]
  },
  {
   "cell_type": "code",
   "execution_count": 23,
   "id": "85c53056",
   "metadata": {
    "scrolled": false
   },
   "outputs": [
    {
     "data": {
      "image/png": "[encoded data removed]",
      "text/plain": [
       "<Figure size 640x480 with 1 Axes>"
      ]
     },
     "metadata": {},
     "output_type": "display_data"
    }
   ],
   "source": [
    "x = df[\"الشهر\"]\n",
    "y = df[\"عدد التصاريح من نسك\"]\n",
    "xlbl = get_display( arabic_reshaper.reshape('الشهر'))\n",
    "ylbl = get_display( arabic_reshaper.reshape('عدد التصاريح'))\n",
    "label = get_display(arabic_reshaper.reshape(\"مجموع التصاريح لكل شهر هجري\")) \n",
    "          \n",
    "plt.bar(x, y, label='Bar1', color='green')\n",
    "plt.xlabel(xlbl, fontdict=None, labelpad=None)\n",
    "plt.ylabel(ylbl, fontdict=None, labelpad=None)\n",
    "plt.title (label, fontweight=10, pad='2.0')\n",
    "plt.show()"
   ]
  },
  {
   "cell_type": "markdown",
   "id": "7940c67d",
   "metadata": {},
   "source": [
    ".أكثر شهر تم إصدار تصاريح فيه كان الشهر التاسع الهجري أي شهر رمضان المبارك بما يقارب ١٦٠ ألف تصريح\n",
    "\n",
    ".أقل شهر تم إصدار تصاريح فيه كان الشهر الثاني عشر هجرياً أي موسم الحج بما يقارب ٢٠ ألف تصريح"
   ]
  },
  {
   "cell_type": "markdown",
   "id": "2064330e",
   "metadata": {},
   "source": [
    "### ماهو نطاق التصاريح لكل جنس؟ وماهو متوسط التصاريح لكل جنس من تطبيق نُسُك؟"
   ]
  },
  {
   "cell_type": "code",
   "execution_count": 24,
   "id": "052ea5d6",
   "metadata": {
    "scrolled": false
   },
   "outputs": [
    {
     "data": {
      "image/png": "[encoded data removed]",
      "text/plain": [
       "<Figure size 640x480 with 1 Axes>"
      ]
     },
     "metadata": {},
     "output_type": "display_data"
    }
   ],
   "source": [
    "\n",
    "gender = df['الجنس'].apply(f)\n",
    "\n",
    "sns.boxplot(data=df, x=gender, y='عدد التصاريح من نسك').set(xlabel= get_display( arabic_reshaper.reshape('الجنس')),  \n",
    "                                                            ylabel= get_display( arabic_reshaper.reshape('عدد التصاريح')))\n",
    "plt.xticks(rotation=15);"
   ]
  },
  {
   "cell_type": "markdown",
   "id": "0d112109",
   "metadata": {},
   "source": [
    "**:بالنسبة إلى تصاريح الرجال**\n",
    "\n",
    ".نطاق التصاريح من تطبيق نُسُك كانت ما بين ١ إلى ما يقارب الـ ٥٥ ألف تصريح\n",
    "\n",
    ".ومتوسط التصاريح هو ما يقارب الـ ١٥ ألف تصريح\n",
    "\n",
    ".٥٠٪ من التصاريح التي تم إصداراها كانت ما بين ١ - ٢٠ ألف تقريباً\n",
    "\n",
    "**:بالنسبة إلى تصاريح النساء**\n",
    "\n",
    ".نطاق التصاريح من تطبيق نُسُك كانت ما بين ١ إلى ما يقارب الـ ٤٠ ألف تصريح\n",
    " \n",
    " .ومتوسط التصاريح هو ما يقارب الـ ١٥ ألف تصريح\n",
    "\n",
    ". ٥٠٪ من التصاريح التي تم إصدارها كانت ما بين ١٠ آلاف إلى ٢٠ ألف تصريح تقريباً"
   ]
  },
  {
   "cell_type": "markdown",
   "id": "836c2049",
   "metadata": {},
   "source": [
    "### ماهو نطاق التصاريح لكل نوع تصريح من تطبيق نُسُك؟ وماهو متوسط التصاريح لكل نوع؟"
   ]
  },
  {
   "cell_type": "code",
   "execution_count": 25,
   "id": "9007d95b",
   "metadata": {
    "scrolled": false
   },
   "outputs": [
    {
     "data": {
      "image/png": "[encoded data removed]",
      "text/plain": [
       "<Figure size 640x480 with 1 Axes>"
      ]
     },
     "metadata": {},
     "output_type": "display_data"
    }
   ],
   "source": [
    "\n",
    "permit_type = df['نوع التصريح'].apply(f)\n",
    "\n",
    "sns.boxplot(data=df, x=permit_type, y='عدد التصاريح من نسك').set(xlabel= get_display( arabic_reshaper.reshape('نوع التصريح')),  \n",
    "                                                                 ylabel= get_display( arabic_reshaper.reshape('عدد التصاريح')))\n",
    "plt.xticks(rotation=15);"
   ]
  },
  {
   "cell_type": "markdown",
   "id": "7c6b029b",
   "metadata": {},
   "source": [
    "**:بالنسبة إلى تصاريح العمرة**\n",
    "\n",
    ".نطاق التصاريح من تطبيق نُسُك كانت ما بين ١ إلى ما يقارب الـ ٦٠ ألف تصريح\n",
    "\n",
    ".ومتوسط التصاريح هو ما يقارب الـ ٢٥ ألف تصريح\n",
    "\n",
    ".٥٠٪ من تصاريح العمرة التي تم إصداراها كانت ما بين ١٥ ألف إلى ٢٥ ألف تقريباً\n",
    "\n",
    "**:بالنسبة إلى تصاريح الروضة**\n",
    "\n",
    ".نطاق تصاريح روضة النساء من تطبيق نُسُك كانت ما بين ١ إلى ما يقارب الـ ١٩ ألف تصريح بينما نطاق روضة الرجال كانت ما بين ١٠ ألاف إلى ١٩ ألف تقريباً\n",
    " \n",
    " .ومتوسط تصاريح الروضة للنساء كانت ما يقارب الـ ١٠ آلاف تصريح بينما متوسط تصاريح الروضة للرجال كانت ما يقارب الـ ١٥ آلاف تصريح\n",
    "\n",
    ". ٥٠٪ من التصاريح التي تم إصدارها لروضة النساء كانت ما بين ١ إلى ١٥ ألف تصريح تقريباً، بينما لروضة الرجال كانت ما بين ١٠ آلاف إلى ١٨ ألف تصريح"
   ]
  },
  {
   "cell_type": "code",
   "execution_count": 26,
   "id": "7700f172",
   "metadata": {
    "scrolled": false
   },
   "outputs": [
    {
     "data": {
      "image/png": "[encoded data removed]",
      "text/plain": [
       "<Figure size 640x480 with 1 Axes>"
      ]
     },
     "metadata": {},
     "output_type": "display_data"
    }
   ],
   "source": [
    "\n",
    "sns.boxplot(data=df, x='الشهر', y='عدد التصاريح من نسك').set(xlabel= get_display( arabic_reshaper.reshape('الشهور الهجرية')),  \n",
    "                                                            ylabel= get_display( arabic_reshaper.reshape('عدد التصاريح')))\n",
    "plt.xticks(rotation=15);"
   ]
  },
  {
   "cell_type": "markdown",
   "id": "64e3ff4f",
   "metadata": {},
   "source": [
    "### بالنسبة إلى تصاريح العمرة، من الأكثر إصداراً للتصاريح الرجال أم النساء؟"
   ]
  },
  {
   "cell_type": "code",
   "execution_count": 27,
   "id": "27238ca2",
   "metadata": {},
   "outputs": [],
   "source": [
    "umrah_  = df.loc[(df[\"نوع التصريح\"] == \"عمرة\")]"
   ]
  },
  {
   "cell_type": "code",
   "execution_count": 28,
   "id": "ca3dd2bc",
   "metadata": {},
   "outputs": [
    {
     "name": "stdout",
     "output_type": "stream",
     "text": [
      "الجنس\n",
      "أنثى     8984516\n",
      "ذكر     12850382\n",
      "Name: عدد التصاريح من نسك, dtype: int64\n"
     ]
    },
    {
     "data": {
      "image/png": "[encoded data removed]",
      "text/plain": [
       "<Figure size 640x480 with 1 Axes>"
      ]
     },
     "metadata": {},
     "output_type": "display_data"
    }
   ],
   "source": [
    "umrah_gender = umrah_.groupby(['الجنس'])['عدد التصاريح من نسك'].sum()\n",
    "print(umrah_gender)\n",
    "\n",
    "umrah_gender = umrah_.groupby(gender)['عدد التصاريح من نسك'].sum()\n",
    "ylabel= get_display( arabic_reshaper.reshape('عدد التصاريح'))\n",
    "umrah_gender.plot(kind='pie', autopct='%1.0f%%', ylabel=ylabel);"
   ]
  },
  {
   "cell_type": "markdown",
   "id": "98757216",
   "metadata": {},
   "source": [
    ".نلاحظ أنَّ الرجال أكثر إصداراً لتصاريح العمرة لعام ١٤٤٤هـ من تطبيق نُسُك بنسبة ٥٩٪ أي بما يقارب الـ ١٣ مليون تصريح  "
   ]
  },
  {
   "cell_type": "markdown",
   "id": "b7775386",
   "metadata": {},
   "source": [
    "### ماهو أكثر وأقل شهر هجري يتم فيه إصدار تصاريح العمرة من تطبيق نُسُك لعام ١٤٤٤هـ؟"
   ]
  },
  {
   "cell_type": "code",
   "execution_count": 29,
   "id": "8c49a223",
   "metadata": {},
   "outputs": [
    {
     "name": "stdout",
     "output_type": "stream",
     "text": [
      "الشهر\n",
      "1     1896596\n",
      "2     1226744\n",
      "3      942147\n",
      "4     1432825\n",
      "5     1494170\n",
      "6     1538829\n",
      "7     1701044\n",
      "8     2025399\n",
      "9     6627488\n",
      "10    2000123\n",
      "11     757197\n",
      "12     192336\n",
      "Name: عدد التصاريح من نسك, dtype: int64\n"
     ]
    },
    {
     "data": {
      "image/png": "[encoded data removed]",
      "text/plain": [
       "<Figure size 640x480 with 1 Axes>"
      ]
     },
     "metadata": {},
     "output_type": "display_data"
    }
   ],
   "source": [
    "# Group umrah_ dataframe based on month and sum the permits count using .groupby method\n",
    "umrah_months = umrah_.groupby(['الشهر'])['عدد التصاريح من نسك'].sum()\n",
    "print(umrah_months)\n",
    "\n",
    "# x-axis and y-axis\n",
    "xlabel= get_display( arabic_reshaper.reshape('الشهور الهجرية'))\n",
    "ylabel= get_display( arabic_reshaper.reshape('عدد التصاريح'))\n",
    "\n",
    "# Visualize Hijri months depending on permits count using line chart\n",
    "umrah_months.plot(kind='line', xlabel=xlabel ,ylabel=ylabel);"
   ]
  },
  {
   "cell_type": "markdown",
   "id": "7f00dad6",
   "metadata": {},
   "source": [
    "أكثر شهر هجري يتم فيه إصدار تصاريح العمرة لعام ١٤٤٤هـ من تطبيق نُسُك كان الشهر التاسع هجرياً (رمضان المبارك)بما يقارب الـ ٧ مليون تصريح عمرة\n",
    "\n",
    "وأقل شهر هجري يتم فيه إصدار تصاريح العمرة كان الشهر الثاني عشر(ذو الحجة) حيث كان أقل من مليون تصريح عمرة "
   ]
  },
  {
   "cell_type": "markdown",
   "id": "2c4ace24",
   "metadata": {},
   "source": [
    "### ماهي حالة عدد تصاريح العمرة في أيام شهر رمضان؟ "
   ]
  },
  {
   "cell_type": "code",
   "execution_count": 30,
   "id": "55137577",
   "metadata": {},
   "outputs": [
    {
     "name": "stdout",
     "output_type": "stream",
     "text": [
      "اليوم_\n",
      "1     208406\n",
      "2     215414\n",
      "3     217260\n",
      "4     204055\n",
      "5     203755\n",
      "6     210600\n",
      "7     215432\n",
      "8     231536\n",
      "9     246455\n",
      "10    235001\n",
      "11    226607\n",
      "12    225154\n",
      "13    232623\n",
      "14    234345\n",
      "15    237486\n",
      "16    230571\n",
      "17    233251\n",
      "18    225165\n",
      "19    239118\n",
      "20    237484\n",
      "21    238984\n",
      "22    233971\n",
      "23    226521\n",
      "24    238998\n",
      "25    231674\n",
      "26    235257\n",
      "27    235648\n",
      "28    236838\n",
      "29    239879\n",
      "Name: عدد التصاريح من نسك, dtype: int64\n"
     ]
    },
    {
     "data": {
      "image/png": "[encoded data removed]",
      "text/plain": [
       "<Figure size 640x480 with 1 Axes>"
      ]
     },
     "metadata": {},
     "output_type": "display_data"
    }
   ],
   "source": [
    "umrah_ramadan = umrah_.loc[(umrah_['الشهر'] == 9 )]\n",
    "date = umrah_ramadan.groupby(['اليوم_'])['عدد التصاريح من نسك'].sum()\n",
    "print(date)\n",
    "\n",
    "xlabel= get_display( arabic_reshaper.reshape('الأيام الهجرية'))\n",
    "ylabel= get_display( arabic_reshaper.reshape('عدد التصاريح'))\n",
    "date.plot(kind='line', xlabel=xlabel ,ylabel=ylabel);"
   ]
  },
  {
   "cell_type": "markdown",
   "id": "c1c2a0dd",
   "metadata": {},
   "source": [
    ":نلاحظ انخفاض وارتفاع في عدد تصاريح العمرة لشهر رمضان ١٤٤٤هـ من تطبيق نُسُك، حيث أن\n",
    "\n",
    ".أقل عدد تصاريح عمرة تم إصدارها في شهر رمضان كانت في اليوم الخامس بما يقل عن ٢١٠ الآف تصريح \n",
    "\n",
    ".وأعلى عدد تصاريح عمرة تم إصدارها في شهر رمضان كانت في اليوم التاسع بما يقارب الـ ٢٤٦ ألف تصريح\n"
   ]
  },
  {
   "cell_type": "markdown",
   "id": "d1c6161a",
   "metadata": {},
   "source": [
    "### ماهو أقل وأعلى عدد تصاريح العمرة؟ وماهو متوسطها؟ "
   ]
  },
  {
   "cell_type": "code",
   "execution_count": 31,
   "id": "7fb18274",
   "metadata": {
    "scrolled": true
   },
   "outputs": [
    {
     "data": {
      "text/plain": [
       "21834898"
      ]
     },
     "execution_count": 31,
     "metadata": {},
     "output_type": "execute_result"
    }
   ],
   "source": [
    "umrah_['عدد التصاريح من نسك'].sum()"
   ]
  },
  {
   "cell_type": "code",
   "execution_count": 32,
   "id": "d250de2b",
   "metadata": {},
   "outputs": [
    {
     "data": {
      "text/plain": [
       "19"
      ]
     },
     "execution_count": 32,
     "metadata": {},
     "output_type": "execute_result"
    }
   ],
   "source": [
    "umrah_['عدد التصاريح من نسك'].min()"
   ]
  },
  {
   "cell_type": "code",
   "execution_count": 33,
   "id": "f6f05a46",
   "metadata": {},
   "outputs": [
    {
     "data": {
      "text/plain": [
       "160304"
      ]
     },
     "execution_count": 33,
     "metadata": {},
     "output_type": "execute_result"
    }
   ],
   "source": [
    "umrah_['عدد التصاريح من نسك'].max()"
   ]
  },
  {
   "cell_type": "code",
   "execution_count": 34,
   "id": "02daec1f",
   "metadata": {},
   "outputs": [
    {
     "data": {
      "text/plain": [
       "24200.0"
      ]
     },
     "execution_count": 34,
     "metadata": {},
     "output_type": "execute_result"
    }
   ],
   "source": [
    "umrah_['عدد التصاريح من نسك'].median()"
   ]
  },
  {
   "cell_type": "markdown",
   "id": "071bac88",
   "metadata": {},
   "source": [
    ".مجموع تصاريح العمرة مايقارب ٢٢ مليون تصريح\n",
    "\n",
    ".نطاق تصاريح العمرة ما بين ١٩ إلى ١٦٠.٣٠٤ تصريح\n",
    "\n",
    ".متوسط تصاريح العمرة لعام ١٤٤٤هـ من تطبيق نُسُك كان ٢٤.٢٠٠ تصريح"
   ]
  },
  {
   "cell_type": "code",
   "execution_count": 35,
   "id": "08537eae",
   "metadata": {},
   "outputs": [
    {
     "data": {
      "image/png": "[encoded data removed]",
      "text/plain": [
       "<Figure size 640x480 with 1 Axes>"
      ]
     },
     "metadata": {},
     "output_type": "display_data"
    }
   ],
   "source": [
    "\n",
    "only_umrah = umrah_['نوع التصريح'].apply(f)\n",
    "\n",
    "sns.boxplot(data=umrah_, x=only_umrah, y='عدد التصاريح من نسك').set(xlabel= get_display( arabic_reshaper.reshape('نوع التصريح')),  \n",
    "                                                                 ylabel= get_display( arabic_reshaper.reshape('عدد التصاريح')))\n",
    "plt.xticks(rotation=15);"
   ]
  },
  {
   "cell_type": "markdown",
   "id": "f2a79c6d",
   "metadata": {},
   "source": [
    "## الاستنتاجات"
   ]
  },
  {
   "cell_type": "markdown",
   "id": "1cbe5258",
   "metadata": {},
   "source": [
    ".تم إصدار ٣٢ مليون تصريح من تطبيق نُسُك لعام ١٤٤٤هـ وتعتبر تصاريح العمرة هي الأكثر إصداراً بنسبة ٦٩٪ أي ما يقارب ٢٢ مليون تصريح عمرة\n",
    "\n",
    "`:تصاريح العمرة`\n",
    "\n",
    ".أكثر شهر هجري تم فيه إصدار تصاريح العمرة لعام ١٤٤٤هـ من تطبيق نُسُك كان الشهر التاسع هجرياً (رمضان المبارك) بما يقارب الـ ٧ مليون تصريح عمرة\n",
    "\n",
    ".أقل شهر هجري تم فيه إصدار تصاريح العمرة كان الشهر الثاني عشر هجرياً (ذو الحجة) حيث كان أقل من مليون تصريح عمرة\n",
    "\n",
    "\n",
    ".أعلى عدد تصاريح تم إصداره من تطبيق نُسُك لعام ١٤٤٤هـ كان ١٦٠ ألف تصريح عمرة -رجال- في يوم ٢٧ من رمضان  \n",
    "\n",
    "\n",
    "`:تصاريح زيارة الروضة الشريفة`"
   ]
  }
 ],
 "metadata": {
  "kernelspec": {
   "display_name": "Python 3 (ipykernel)",
   "language": "python",
   "name": "python3"
  },
  "language_info": {
   "codemirror_mode": {
    "name": "ipython",
    "version": 3
   },
   "file_extension": ".py",
   "mimetype": "text/x-python",
   "name": "python",
   "nbconvert_exporter": "python",
   "pygments_lexer": "ipython3",
   "version": "3.11.5"
  }
 },
 "nbformat": 4,
 "nbformat_minor": 5
}
