{
 "cells": [
  {
   "cell_type": "markdown",
   "id": "51380c05",
   "metadata": {},
   "source": [
    "# مشروع تحليل بيانات تصاريح تطبيق نُسُك لعام ١٤٤٤هـ "
   ]
  },
  {
   "cell_type": "code",
   "execution_count": 5,
   "id": "fd9382f4",
   "metadata": {},
   "outputs": [],
   "source": [
    "import pandas as pd"
   ]
  },
  {
   "cell_type": "code",
   "execution_count": 6,
   "id": "cc052c27",
   "metadata": {},
   "outputs": [],
   "source": [
    "df = pd.read_csv('number-of-permits-from-the-nsk.csv')"
   ]
  },
  {
   "cell_type": "code",
   "execution_count": 8,
   "id": "57c5855e",
   "metadata": {},
   "outputs": [
    {
     "data": {
      "text/html": [
       "<div>\n",
       "<style scoped>\n",
       "    .dataframe tbody tr th:only-of-type {\n",
       "        vertical-align: middle;\n",
       "    }\n",
       "\n",
       "    .dataframe tbody tr th {\n",
       "        vertical-align: top;\n",
       "    }\n",
       "\n",
       "    .dataframe thead th {\n",
       "        text-align: right;\n",
       "    }\n",
       "</style>\n",
       "<table border=\"1\" class=\"dataframe\">\n",
       "  <thead>\n",
       "    <tr style=\"text-align: right;\">\n",
       "      <th></th>\n",
       "      <th>عدد التصاريح من نسك</th>\n",
       "      <th>نوع التصريح</th>\n",
       "      <th>الجنس</th>\n",
       "      <th>اليوم</th>\n",
       "    </tr>\n",
       "  </thead>\n",
       "  <tbody>\n",
       "    <tr>\n",
       "      <th>0</th>\n",
       "      <td>10815</td>\n",
       "      <td>روضة رجال</td>\n",
       "      <td>ذكر</td>\n",
       "      <td>1444/1/3</td>\n",
       "    </tr>\n",
       "    <tr>\n",
       "      <th>1</th>\n",
       "      <td>10591</td>\n",
       "      <td>روضة نساء</td>\n",
       "      <td>أنثى</td>\n",
       "      <td>1444/2/4</td>\n",
       "    </tr>\n",
       "    <tr>\n",
       "      <th>2</th>\n",
       "      <td>73039</td>\n",
       "      <td>عمرة</td>\n",
       "      <td>ذكر</td>\n",
       "      <td>1444/1/7</td>\n",
       "    </tr>\n",
       "    <tr>\n",
       "      <th>3</th>\n",
       "      <td>8092</td>\n",
       "      <td>روضة رجال</td>\n",
       "      <td>ذكر</td>\n",
       "      <td>1444/1/16</td>\n",
       "    </tr>\n",
       "    <tr>\n",
       "      <th>4</th>\n",
       "      <td>14544</td>\n",
       "      <td>روضة نساء</td>\n",
       "      <td>أنثى</td>\n",
       "      <td>1444/3/12</td>\n",
       "    </tr>\n",
       "    <tr>\n",
       "      <th>5</th>\n",
       "      <td>5051</td>\n",
       "      <td>روضة رجال</td>\n",
       "      <td>ذكر</td>\n",
       "      <td>1444/1/10</td>\n",
       "    </tr>\n",
       "    <tr>\n",
       "      <th>6</th>\n",
       "      <td>33656</td>\n",
       "      <td>عمرة</td>\n",
       "      <td>ذكر</td>\n",
       "      <td>1444/1/12</td>\n",
       "    </tr>\n",
       "    <tr>\n",
       "      <th>7</th>\n",
       "      <td>11990</td>\n",
       "      <td>عمرة</td>\n",
       "      <td>أنثى</td>\n",
       "      <td>1444/3/12</td>\n",
       "    </tr>\n",
       "    <tr>\n",
       "      <th>8</th>\n",
       "      <td>24554</td>\n",
       "      <td>عمرة</td>\n",
       "      <td>ذكر</td>\n",
       "      <td>1444/1/29</td>\n",
       "    </tr>\n",
       "    <tr>\n",
       "      <th>9</th>\n",
       "      <td>23393</td>\n",
       "      <td>عمرة</td>\n",
       "      <td>أنثى</td>\n",
       "      <td>1444/4/10</td>\n",
       "    </tr>\n",
       "  </tbody>\n",
       "</table>\n",
       "</div>"
      ],
      "text/plain": [
       "   عدد التصاريح من نسك نوع التصريح الجنس      اليوم\n",
       "0                10815   روضة رجال   ذكر   1444/1/3\n",
       "1                10591   روضة نساء  أنثى   1444/2/4\n",
       "2                73039        عمرة   ذكر   1444/1/7\n",
       "3                 8092   روضة رجال   ذكر  1444/1/16\n",
       "4                14544   روضة نساء  أنثى  1444/3/12\n",
       "5                 5051   روضة رجال   ذكر  1444/1/10\n",
       "6                33656        عمرة   ذكر  1444/1/12\n",
       "7                11990        عمرة  أنثى  1444/3/12\n",
       "8                24554        عمرة   ذكر  1444/1/29\n",
       "9                23393        عمرة  أنثى  1444/4/10"
      ]
     },
     "execution_count": 8,
     "metadata": {},
     "output_type": "execute_result"
    }
   ],
   "source": [
    "df.head(10)"
   ]
  }
 ],
 "metadata": {
  "kernelspec": {
   "display_name": "Python 3 (ipykernel)",
   "language": "python",
   "name": "python3"
  },
  "language_info": {
   "codemirror_mode": {
    "name": "ipython",
    "version": 3
   },
   "file_extension": ".py",
   "mimetype": "text/x-python",
   "name": "python",
   "nbconvert_exporter": "python",
   "pygments_lexer": "ipython3",
   "version": "3.11.4"
  }
 },
 "nbformat": 4,
 "nbformat_minor": 5
}
