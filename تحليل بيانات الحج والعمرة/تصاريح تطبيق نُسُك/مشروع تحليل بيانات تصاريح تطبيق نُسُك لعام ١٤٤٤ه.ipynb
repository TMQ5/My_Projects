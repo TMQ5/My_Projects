{
 "cells": [
  {
   "cell_type": "markdown",
   "id": "51380c05",
   "metadata": {},
   "source": [
    "# مشروع تحليل بيانات تصاريح تطبيق نُسُك لعام ١٤٤٤هـ "
   ]
  },
  {
   "cell_type": "code",
   "execution_count": 1,
   "id": "fd9382f4",
   "metadata": {},
   "outputs": [],
   "source": [
    "# Import necessary libraries\n",
    "import pandas as pd\n",
    "import numpy as np\n",
    "import seaborn as sns\n",
    "import matplotlib.pyplot as plt\n",
    "import arabic_reshaper\n",
    "from bidi.algorithm import get_display"
   ]
  },
  {
   "cell_type": "code",
   "execution_count": 2,
   "id": "cc052c27",
   "metadata": {},
   "outputs": [],
   "source": [
    "# Read csv file\n",
    "df = pd.read_csv('number-of-permits-from-the-nsk.csv')"
   ]
  },
  {
   "cell_type": "markdown",
   "id": "879d5241",
   "metadata": {},
   "source": [
    "# تقييم البيانات"
   ]
  },
  {
   "cell_type": "code",
   "execution_count": 3,
   "id": "57c5855e",
   "metadata": {},
   "outputs": [
    {
     "data": {
      "text/html": [
       "<div>\n",
       "<style scoped>\n",
       "    .dataframe tbody tr th:only-of-type {\n",
       "        vertical-align: middle;\n",
       "    }\n",
       "\n",
       "    .dataframe tbody tr th {\n",
       "        vertical-align: top;\n",
       "    }\n",
       "\n",
       "    .dataframe thead th {\n",
       "        text-align: right;\n",
       "    }\n",
       "</style>\n",
       "<table border=\"1\" class=\"dataframe\">\n",
       "  <thead>\n",
       "    <tr style=\"text-align: right;\">\n",
       "      <th></th>\n",
       "      <th>عدد التصاريح من نسك</th>\n",
       "      <th>نوع التصريح</th>\n",
       "      <th>الجنس</th>\n",
       "      <th>اليوم</th>\n",
       "    </tr>\n",
       "  </thead>\n",
       "  <tbody>\n",
       "    <tr>\n",
       "      <th>0</th>\n",
       "      <td>10815</td>\n",
       "      <td>روضة رجال</td>\n",
       "      <td>ذكر</td>\n",
       "      <td>1444/1/3</td>\n",
       "    </tr>\n",
       "    <tr>\n",
       "      <th>1</th>\n",
       "      <td>10591</td>\n",
       "      <td>روضة نساء</td>\n",
       "      <td>أنثى</td>\n",
       "      <td>1444/2/4</td>\n",
       "    </tr>\n",
       "    <tr>\n",
       "      <th>2</th>\n",
       "      <td>73039</td>\n",
       "      <td>عمرة</td>\n",
       "      <td>ذكر</td>\n",
       "      <td>1444/1/7</td>\n",
       "    </tr>\n",
       "    <tr>\n",
       "      <th>3</th>\n",
       "      <td>8092</td>\n",
       "      <td>روضة رجال</td>\n",
       "      <td>ذكر</td>\n",
       "      <td>1444/1/16</td>\n",
       "    </tr>\n",
       "    <tr>\n",
       "      <th>4</th>\n",
       "      <td>14544</td>\n",
       "      <td>روضة نساء</td>\n",
       "      <td>أنثى</td>\n",
       "      <td>1444/3/12</td>\n",
       "    </tr>\n",
       "  </tbody>\n",
       "</table>\n",
       "</div>"
      ],
      "text/plain": [
       "   عدد التصاريح من نسك نوع التصريح الجنس      اليوم\n",
       "0                10815   روضة رجال   ذكر   1444/1/3\n",
       "1                10591   روضة نساء  أنثى   1444/2/4\n",
       "2                73039        عمرة   ذكر   1444/1/7\n",
       "3                 8092   روضة رجال   ذكر  1444/1/16\n",
       "4                14544   روضة نساء  أنثى  1444/3/12"
      ]
     },
     "execution_count": 3,
     "metadata": {},
     "output_type": "execute_result"
    }
   ],
   "source": [
    "# Display the first five rows of the DataFrame using .head\n",
    "df.head()"
   ]
  },
  {
   "cell_type": "code",
   "execution_count": 4,
   "id": "ad78e6a1",
   "metadata": {},
   "outputs": [
    {
     "data": {
      "text/html": [
       "<div>\n",
       "<style scoped>\n",
       "    .dataframe tbody tr th:only-of-type {\n",
       "        vertical-align: middle;\n",
       "    }\n",
       "\n",
       "    .dataframe tbody tr th {\n",
       "        vertical-align: top;\n",
       "    }\n",
       "\n",
       "    .dataframe thead th {\n",
       "        text-align: right;\n",
       "    }\n",
       "</style>\n",
       "<table border=\"1\" class=\"dataframe\">\n",
       "  <thead>\n",
       "    <tr style=\"text-align: right;\">\n",
       "      <th></th>\n",
       "      <th>عدد التصاريح من نسك</th>\n",
       "      <th>نوع التصريح</th>\n",
       "      <th>الجنس</th>\n",
       "      <th>اليوم</th>\n",
       "    </tr>\n",
       "  </thead>\n",
       "  <tbody>\n",
       "    <tr>\n",
       "      <th>1714</th>\n",
       "      <td>1</td>\n",
       "      <td>روضة نساء</td>\n",
       "      <td>ذكر</td>\n",
       "      <td>1444/10/19</td>\n",
       "    </tr>\n",
       "    <tr>\n",
       "      <th>1715</th>\n",
       "      <td>1</td>\n",
       "      <td>روضة رجال</td>\n",
       "      <td>أنثى</td>\n",
       "      <td>1444/5/23</td>\n",
       "    </tr>\n",
       "    <tr>\n",
       "      <th>1716</th>\n",
       "      <td>1</td>\n",
       "      <td>روضة رجال</td>\n",
       "      <td>أنثى</td>\n",
       "      <td>1444/6/8</td>\n",
       "    </tr>\n",
       "    <tr>\n",
       "      <th>1717</th>\n",
       "      <td>1</td>\n",
       "      <td>روضة رجال</td>\n",
       "      <td>أنثى</td>\n",
       "      <td>1444/10/29</td>\n",
       "    </tr>\n",
       "    <tr>\n",
       "      <th>1718</th>\n",
       "      <td>1</td>\n",
       "      <td>روضة رجال</td>\n",
       "      <td>أنثى</td>\n",
       "      <td>1444/9/5</td>\n",
       "    </tr>\n",
       "  </tbody>\n",
       "</table>\n",
       "</div>"
      ],
      "text/plain": [
       "      عدد التصاريح من نسك نوع التصريح الجنس       اليوم\n",
       "1714                    1   روضة نساء   ذكر  1444/10/19\n",
       "1715                    1   روضة رجال  أنثى   1444/5/23\n",
       "1716                    1   روضة رجال  أنثى    1444/6/8\n",
       "1717                    1   روضة رجال  أنثى  1444/10/29\n",
       "1718                    1   روضة رجال  أنثى    1444/9/5"
      ]
     },
     "execution_count": 4,
     "metadata": {},
     "output_type": "execute_result"
    }
   ],
   "source": [
    "# Display the last five rows of the DataFrame using .tail\n",
    "df.tail()"
   ]
  },
  {
   "cell_type": "code",
   "execution_count": 5,
   "id": "0d74610c",
   "metadata": {},
   "outputs": [
    {
     "name": "stdout",
     "output_type": "stream",
     "text": [
      "<class 'pandas.core.frame.DataFrame'>\n",
      "RangeIndex: 1719 entries, 0 to 1718\n",
      "Data columns (total 4 columns):\n",
      " #   Column               Non-Null Count  Dtype \n",
      "---  ------               --------------  ----- \n",
      " 0   عدد التصاريح من نسك  1719 non-null   int64 \n",
      " 1   نوع التصريح          1719 non-null   object\n",
      " 2   الجنس                1719 non-null   object\n",
      " 3   اليوم                1719 non-null   object\n",
      "dtypes: int64(1), object(3)\n",
      "memory usage: 53.8+ KB\n"
     ]
    }
   ],
   "source": [
    "# Display a basic summary of the DataFrame using .info\n",
    "df.info()"
   ]
  },
  {
   "cell_type": "code",
   "execution_count": 6,
   "id": "a3150c88",
   "metadata": {
    "scrolled": true
   },
   "outputs": [
    {
     "data": {
      "text/plain": [
       "نوع التصريح\n",
       "عمرة         708\n",
       "روضة نساء    576\n",
       "روضة رجال    435\n",
       "Name: count, dtype: int64"
      ]
     },
     "execution_count": 6,
     "metadata": {},
     "output_type": "execute_result"
    }
   ],
   "source": [
    "# Display the entry counts using .value_counts\n",
    "df.value_counts(\"نوع التصريح\")"
   ]
  },
  {
   "cell_type": "code",
   "execution_count": 7,
   "id": "2a68d3e1",
   "metadata": {
    "scrolled": true
   },
   "outputs": [
    {
     "data": {
      "text/plain": [
       "الجنس\n",
       "ذكر     930\n",
       "أنثى    789\n",
       "Name: count, dtype: int64"
      ]
     },
     "execution_count": 7,
     "metadata": {},
     "output_type": "execute_result"
    }
   ],
   "source": [
    "# Display the entry counts using .value_counts\n",
    "df.value_counts(\"الجنس\")"
   ]
  },
  {
   "cell_type": "code",
   "execution_count": 8,
   "id": "f10cb6e0",
   "metadata": {},
   "outputs": [
    {
     "data": {
      "text/plain": [
       "عدد التصاريح من نسك    0\n",
       "نوع التصريح            0\n",
       "الجنس                  0\n",
       "اليوم                  0\n",
       "dtype: int64"
      ]
     },
     "execution_count": 8,
     "metadata": {},
     "output_type": "execute_result"
    }
   ],
   "source": [
    "# Count of missing values in each column\n",
    "df.isnull().sum()"
   ]
  },
  {
   "cell_type": "code",
   "execution_count": 9,
   "id": "e5b6e724",
   "metadata": {},
   "outputs": [
    {
     "data": {
      "text/plain": [
       "0"
      ]
     },
     "execution_count": 9,
     "metadata": {},
     "output_type": "execute_result"
    }
   ],
   "source": [
    "# Count of duplicate rows \n",
    "df.duplicated().sum()"
   ]
  },
  {
   "cell_type": "markdown",
   "id": "a48657e1",
   "metadata": {},
   "source": [
    "### :ملخص التقييم \n",
    "\n",
    "هناك ٤ أعمدة و ١٧١٩ صف \n",
    " \n",
    " :الأعمدة هي\n",
    " \n",
    " `عدد التصاريح من نسك` : عدد التصاريح التي تم إصدارها من تطبيق نُسك لعام ١٤٤٤هـ\n",
    "\n",
    " `نوع التصريح` : تصريح عمرة، تصريح زيارة للروضة للرجال، تصريح زيارة للروضة للنساء\n",
    "\n",
    " `الجنس` : ذكر و أنثى\n",
    "\n",
    " `اليوم` : تاريخ إصدار التصريح"
   ]
  },
  {
   "cell_type": "markdown",
   "id": "b70a78b7",
   "metadata": {},
   "source": [
    "من خلال التقييم نلاحظ أنَّ جودة البيانات عالية لا يوجد بيانات مفقودة أو خالية، عناوين الأعمدة واضحة ووصفية، نوع البيانات صحيح لكل عمود ماعدا عمود اليوم، لا يوجد تكرارات للبيانات.\n",
    "\n",
    "سأحتاج فقط لفصل اليوم و الشهر من عمود `اليوم` لاستخدامه في تحليلي، سأقوم بحذف السنة؛ لأنها ستكون لجميع البيانات ١٤٤٤هـ. "
   ]
  },
  {
   "cell_type": "markdown",
   "id": "39181f52",
   "metadata": {},
   "source": [
    "# تنظيف البيانات"
   ]
  },
  {
   "cell_type": "markdown",
   "id": "d95c1f0e",
   "metadata": {},
   "source": [
    "كما لاحظنا في القسم السابق أن البيانات نظيفة لا نحتاج إلا لفصل عمود `اليوم` إلى عمود للشهر وعمود لليوم لاحتياجي له في تحليلي وحذف عمود `اليوم` بعد الفصل"
   ]
  },
  {
   "cell_type": "code",
   "execution_count": 10,
   "id": "41e92c1c",
   "metadata": {},
   "outputs": [
    {
     "data": {
      "text/html": [
       "<div>\n",
       "<style scoped>\n",
       "    .dataframe tbody tr th:only-of-type {\n",
       "        vertical-align: middle;\n",
       "    }\n",
       "\n",
       "    .dataframe tbody tr th {\n",
       "        vertical-align: top;\n",
       "    }\n",
       "\n",
       "    .dataframe thead th {\n",
       "        text-align: right;\n",
       "    }\n",
       "</style>\n",
       "<table border=\"1\" class=\"dataframe\">\n",
       "  <thead>\n",
       "    <tr style=\"text-align: right;\">\n",
       "      <th></th>\n",
       "      <th>عدد التصاريح من نسك</th>\n",
       "      <th>نوع التصريح</th>\n",
       "      <th>الجنس</th>\n",
       "      <th>اليوم</th>\n",
       "      <th>الشهر</th>\n",
       "      <th>اليوم_</th>\n",
       "    </tr>\n",
       "  </thead>\n",
       "  <tbody>\n",
       "    <tr>\n",
       "      <th>0</th>\n",
       "      <td>10815</td>\n",
       "      <td>روضة رجال</td>\n",
       "      <td>ذكر</td>\n",
       "      <td>1444/1/3</td>\n",
       "      <td>1</td>\n",
       "      <td>3</td>\n",
       "    </tr>\n",
       "    <tr>\n",
       "      <th>1</th>\n",
       "      <td>10591</td>\n",
       "      <td>روضة نساء</td>\n",
       "      <td>أنثى</td>\n",
       "      <td>1444/2/4</td>\n",
       "      <td>2</td>\n",
       "      <td>4</td>\n",
       "    </tr>\n",
       "    <tr>\n",
       "      <th>2</th>\n",
       "      <td>73039</td>\n",
       "      <td>عمرة</td>\n",
       "      <td>ذكر</td>\n",
       "      <td>1444/1/7</td>\n",
       "      <td>1</td>\n",
       "      <td>7</td>\n",
       "    </tr>\n",
       "    <tr>\n",
       "      <th>3</th>\n",
       "      <td>8092</td>\n",
       "      <td>روضة رجال</td>\n",
       "      <td>ذكر</td>\n",
       "      <td>1444/1/16</td>\n",
       "      <td>1</td>\n",
       "      <td>16</td>\n",
       "    </tr>\n",
       "    <tr>\n",
       "      <th>4</th>\n",
       "      <td>14544</td>\n",
       "      <td>روضة نساء</td>\n",
       "      <td>أنثى</td>\n",
       "      <td>1444/3/12</td>\n",
       "      <td>3</td>\n",
       "      <td>12</td>\n",
       "    </tr>\n",
       "  </tbody>\n",
       "</table>\n",
       "</div>"
      ],
      "text/plain": [
       "   عدد التصاريح من نسك نوع التصريح الجنس      اليوم الشهر اليوم_\n",
       "0                10815   روضة رجال   ذكر   1444/1/3     1      3\n",
       "1                10591   روضة نساء  أنثى   1444/2/4     2      4\n",
       "2                73039        عمرة   ذكر   1444/1/7     1      7\n",
       "3                 8092   روضة رجال   ذكر  1444/1/16     1     16\n",
       "4                14544   روضة نساء  أنثى  1444/3/12     3     12"
      ]
     },
     "execution_count": 10,
     "metadata": {},
     "output_type": "execute_result"
    }
   ],
   "source": [
    "# Extract month and day from 'اليوم' column\n",
    "df[\"الشهر\"] = df[\"اليوم\"].apply(lambda x : x.split(\"/\")[1])\n",
    "df[\"اليوم_\"] = df[\"اليوم\"].apply(lambda x : x.split(\"/\")[2])\n",
    "\n",
    "# Check for Extracting\n",
    "df.head()"
   ]
  },
  {
   "cell_type": "code",
   "execution_count": 11,
   "id": "180b585d",
   "metadata": {},
   "outputs": [
    {
     "data": {
      "text/html": [
       "<div>\n",
       "<style scoped>\n",
       "    .dataframe tbody tr th:only-of-type {\n",
       "        vertical-align: middle;\n",
       "    }\n",
       "\n",
       "    .dataframe tbody tr th {\n",
       "        vertical-align: top;\n",
       "    }\n",
       "\n",
       "    .dataframe thead th {\n",
       "        text-align: right;\n",
       "    }\n",
       "</style>\n",
       "<table border=\"1\" class=\"dataframe\">\n",
       "  <thead>\n",
       "    <tr style=\"text-align: right;\">\n",
       "      <th></th>\n",
       "      <th>عدد التصاريح من نسك</th>\n",
       "      <th>نوع التصريح</th>\n",
       "      <th>الجنس</th>\n",
       "      <th>الشهر</th>\n",
       "      <th>اليوم_</th>\n",
       "    </tr>\n",
       "  </thead>\n",
       "  <tbody>\n",
       "    <tr>\n",
       "      <th>0</th>\n",
       "      <td>10815</td>\n",
       "      <td>روضة رجال</td>\n",
       "      <td>ذكر</td>\n",
       "      <td>1</td>\n",
       "      <td>3</td>\n",
       "    </tr>\n",
       "    <tr>\n",
       "      <th>1</th>\n",
       "      <td>10591</td>\n",
       "      <td>روضة نساء</td>\n",
       "      <td>أنثى</td>\n",
       "      <td>2</td>\n",
       "      <td>4</td>\n",
       "    </tr>\n",
       "    <tr>\n",
       "      <th>2</th>\n",
       "      <td>73039</td>\n",
       "      <td>عمرة</td>\n",
       "      <td>ذكر</td>\n",
       "      <td>1</td>\n",
       "      <td>7</td>\n",
       "    </tr>\n",
       "    <tr>\n",
       "      <th>3</th>\n",
       "      <td>8092</td>\n",
       "      <td>روضة رجال</td>\n",
       "      <td>ذكر</td>\n",
       "      <td>1</td>\n",
       "      <td>16</td>\n",
       "    </tr>\n",
       "    <tr>\n",
       "      <th>4</th>\n",
       "      <td>14544</td>\n",
       "      <td>روضة نساء</td>\n",
       "      <td>أنثى</td>\n",
       "      <td>3</td>\n",
       "      <td>12</td>\n",
       "    </tr>\n",
       "  </tbody>\n",
       "</table>\n",
       "</div>"
      ],
      "text/plain": [
       "   عدد التصاريح من نسك نوع التصريح الجنس الشهر اليوم_\n",
       "0                10815   روضة رجال   ذكر     1      3\n",
       "1                10591   روضة نساء  أنثى     2      4\n",
       "2                73039        عمرة   ذكر     1      7\n",
       "3                 8092   روضة رجال   ذكر     1     16\n",
       "4                14544   روضة نساء  أنثى     3     12"
      ]
     },
     "execution_count": 11,
     "metadata": {},
     "output_type": "execute_result"
    }
   ],
   "source": [
    "# Delete 'اليوم' column\n",
    "df.drop([\"اليوم\"], axis = 1, inplace = True)\n",
    "\n",
    "# Check for Deleting\n",
    "df.head()"
   ]
  },
  {
   "cell_type": "code",
   "execution_count": 12,
   "id": "bd3139a9",
   "metadata": {},
   "outputs": [
    {
     "data": {
      "text/plain": [
       "عدد التصاريح من نسك     int64\n",
       "نوع التصريح            object\n",
       "الجنس                  object\n",
       "الشهر                  object\n",
       "اليوم_                 object\n",
       "dtype: object"
      ]
     },
     "execution_count": 12,
     "metadata": {},
     "output_type": "execute_result"
    }
   ],
   "source": [
    "# Check for column dtypes\n",
    "df.dtypes"
   ]
  },
  {
   "cell_type": "markdown",
   "id": "bdbe5971",
   "metadata": {},
   "source": [
    "نحتاج إلى تحويل نوع البيانات لعمود الشهر واليوم_  من نص إلى رقم صحيح"
   ]
  },
  {
   "cell_type": "code",
   "execution_count": 13,
   "id": "2c28398d",
   "metadata": {},
   "outputs": [
    {
     "data": {
      "text/plain": [
       "عدد التصاريح من نسك     int64\n",
       "نوع التصريح            object\n",
       "الجنس                  object\n",
       "الشهر                   int64\n",
       "اليوم_                  int64\n",
       "dtype: object"
      ]
     },
     "execution_count": 13,
     "metadata": {},
     "output_type": "execute_result"
    }
   ],
   "source": [
    "# Convert 'الشهر' and 'اليوم_' columns to int64\n",
    "df['الشهر'] = df['الشهر'].astype(int)\n",
    "df['اليوم_'] = df['اليوم_'].astype(int)\n",
    "\n",
    "# Check for column dtypes\n",
    "df.dtypes"
   ]
  },
  {
   "cell_type": "markdown",
   "id": "cd60badf",
   "metadata": {},
   "source": [
    "### :ملخص التنظيف\n",
    "\n",
    "تم فصل الشهر واليوم من عمود `اليوم` إلى عمودين منفصلين، ومن ثم حذف عمود `اليوم`، بعد ذك تم تحويل نوع البيانات للعمودين الشهر واليوم إلى نوع رقم صحيح  "
   ]
  },
  {
   "cell_type": "markdown",
   "id": "1c820350",
   "metadata": {},
   "source": [
    "# التحليل الإستكشافي للبيانات"
   ]
  },
  {
   "cell_type": "code",
   "execution_count": 14,
   "id": "5060ba45",
   "metadata": {},
   "outputs": [
    {
     "data": {
      "text/html": [
       "<div>\n",
       "<style scoped>\n",
       "    .dataframe tbody tr th:only-of-type {\n",
       "        vertical-align: middle;\n",
       "    }\n",
       "\n",
       "    .dataframe tbody tr th {\n",
       "        vertical-align: top;\n",
       "    }\n",
       "\n",
       "    .dataframe thead th {\n",
       "        text-align: right;\n",
       "    }\n",
       "</style>\n",
       "<table border=\"1\" class=\"dataframe\">\n",
       "  <thead>\n",
       "    <tr style=\"text-align: right;\">\n",
       "      <th></th>\n",
       "      <th>عدد التصاريح من نسك</th>\n",
       "      <th>الشهر</th>\n",
       "      <th>اليوم_</th>\n",
       "    </tr>\n",
       "  </thead>\n",
       "  <tbody>\n",
       "    <tr>\n",
       "      <th>count</th>\n",
       "      <td>1719.000000</td>\n",
       "      <td>1719.000000</td>\n",
       "      <td>1719.000000</td>\n",
       "    </tr>\n",
       "    <tr>\n",
       "      <th>mean</th>\n",
       "      <td>18457.862711</td>\n",
       "      <td>6.447935</td>\n",
       "      <td>15.470622</td>\n",
       "    </tr>\n",
       "    <tr>\n",
       "      <th>std</th>\n",
       "      <td>22200.683072</td>\n",
       "      <td>3.399059</td>\n",
       "      <td>8.474239</td>\n",
       "    </tr>\n",
       "    <tr>\n",
       "      <th>min</th>\n",
       "      <td>1.000000</td>\n",
       "      <td>1.000000</td>\n",
       "      <td>1.000000</td>\n",
       "    </tr>\n",
       "    <tr>\n",
       "      <th>25%</th>\n",
       "      <td>8068.500000</td>\n",
       "      <td>4.000000</td>\n",
       "      <td>8.000000</td>\n",
       "    </tr>\n",
       "    <tr>\n",
       "      <th>50%</th>\n",
       "      <td>15467.000000</td>\n",
       "      <td>6.000000</td>\n",
       "      <td>16.000000</td>\n",
       "    </tr>\n",
       "    <tr>\n",
       "      <th>75%</th>\n",
       "      <td>21203.000000</td>\n",
       "      <td>9.000000</td>\n",
       "      <td>23.000000</td>\n",
       "    </tr>\n",
       "    <tr>\n",
       "      <th>max</th>\n",
       "      <td>160304.000000</td>\n",
       "      <td>12.000000</td>\n",
       "      <td>30.000000</td>\n",
       "    </tr>\n",
       "  </tbody>\n",
       "</table>\n",
       "</div>"
      ],
      "text/plain": [
       "       عدد التصاريح من نسك        الشهر       اليوم_\n",
       "count          1719.000000  1719.000000  1719.000000\n",
       "mean          18457.862711     6.447935    15.470622\n",
       "std           22200.683072     3.399059     8.474239\n",
       "min               1.000000     1.000000     1.000000\n",
       "25%            8068.500000     4.000000     8.000000\n",
       "50%           15467.000000     6.000000    16.000000\n",
       "75%           21203.000000     9.000000    23.000000\n",
       "max          160304.000000    12.000000    30.000000"
      ]
     },
     "execution_count": 14,
     "metadata": {},
     "output_type": "execute_result"
    }
   ],
   "source": [
    "# Calculate descriptive statistics for each numeric variable\n",
    "df.describe()"
   ]
  },
  {
   "cell_type": "markdown",
   "id": "80fd5b88",
   "metadata": {},
   "source": [
    ":عام ١٤٤٤هـ\n",
    "\n",
    "أقل عدد تصاريح من تطبيق نُسك كان **تصريح واحد** فقط \n",
    "\n",
    "أعلى عدد تصاريح من تطبيق نُسك كان **160,304** تصريح\n",
    "\n",
    "متوسط عدد التصاريح لهذا العام كان **18,457** تصريح"
   ]
  },
  {
   "cell_type": "code",
   "execution_count": 15,
   "id": "b0db4834",
   "metadata": {},
   "outputs": [
    {
     "data": {
      "text/html": [
       "<div>\n",
       "<style scoped>\n",
       "    .dataframe tbody tr th:only-of-type {\n",
       "        vertical-align: middle;\n",
       "    }\n",
       "\n",
       "    .dataframe tbody tr th {\n",
       "        vertical-align: top;\n",
       "    }\n",
       "\n",
       "    .dataframe thead th {\n",
       "        text-align: right;\n",
       "    }\n",
       "</style>\n",
       "<table border=\"1\" class=\"dataframe\">\n",
       "  <thead>\n",
       "    <tr style=\"text-align: right;\">\n",
       "      <th></th>\n",
       "      <th>عدد التصاريح من نسك</th>\n",
       "      <th>نوع التصريح</th>\n",
       "      <th>الجنس</th>\n",
       "      <th>الشهر</th>\n",
       "      <th>اليوم_</th>\n",
       "    </tr>\n",
       "  </thead>\n",
       "  <tbody>\n",
       "    <tr>\n",
       "      <th>1430</th>\n",
       "      <td>160304</td>\n",
       "      <td>عمرة</td>\n",
       "      <td>ذكر</td>\n",
       "      <td>9</td>\n",
       "      <td>27</td>\n",
       "    </tr>\n",
       "  </tbody>\n",
       "</table>\n",
       "</div>"
      ],
      "text/plain": [
       "      عدد التصاريح من نسك نوع التصريح الجنس  الشهر  اليوم_\n",
       "1430               160304        عمرة   ذكر      9      27"
      ]
     },
     "execution_count": 15,
     "metadata": {},
     "output_type": "execute_result"
    }
   ],
   "source": [
    "# retrieving rows by loc method\n",
    "max_permits = b = df.loc[df[\"عدد التصاريح من نسك\"] == 160304,:]\n",
    "\n",
    "\n",
    "# display\n",
    "max_permits"
   ]
  },
  {
   "cell_type": "markdown",
   "id": "8fde907c",
   "metadata": {},
   "source": [
    "كان أعلى عدد تصاريح من تطبيق نُسك هي عدد تصاريح العمرة التي تم إصدارها في يوم ٢٧ رمضان حيث كان عددها ما يقارب ١٦٠ ألف تصريح عمرة للرجال  "
   ]
  },
  {
   "cell_type": "code",
   "execution_count": 16,
   "id": "a45d7446",
   "metadata": {},
   "outputs": [
    {
     "data": {
      "text/html": [
       "<div>\n",
       "<style scoped>\n",
       "    .dataframe tbody tr th:only-of-type {\n",
       "        vertical-align: middle;\n",
       "    }\n",
       "\n",
       "    .dataframe tbody tr th {\n",
       "        vertical-align: top;\n",
       "    }\n",
       "\n",
       "    .dataframe thead th {\n",
       "        text-align: right;\n",
       "    }\n",
       "</style>\n",
       "<table border=\"1\" class=\"dataframe\">\n",
       "  <thead>\n",
       "    <tr style=\"text-align: right;\">\n",
       "      <th></th>\n",
       "      <th>عدد التصاريح من نسك</th>\n",
       "      <th>نوع التصريح</th>\n",
       "      <th>الجنس</th>\n",
       "      <th>الشهر</th>\n",
       "      <th>اليوم_</th>\n",
       "    </tr>\n",
       "  </thead>\n",
       "  <tbody>\n",
       "    <tr>\n",
       "      <th>1430</th>\n",
       "      <td>160304</td>\n",
       "      <td>عمرة</td>\n",
       "      <td>ذكر</td>\n",
       "      <td>9</td>\n",
       "      <td>27</td>\n",
       "    </tr>\n",
       "    <tr>\n",
       "      <th>1631</th>\n",
       "      <td>75344</td>\n",
       "      <td>عمرة</td>\n",
       "      <td>أنثى</td>\n",
       "      <td>9</td>\n",
       "      <td>27</td>\n",
       "    </tr>\n",
       "  </tbody>\n",
       "</table>\n",
       "</div>"
      ],
      "text/plain": [
       "      عدد التصاريح من نسك نوع التصريح الجنس  الشهر  اليوم_\n",
       "1430               160304        عمرة   ذكر      9      27\n",
       "1631                75344        عمرة  أنثى      9      27"
      ]
     },
     "execution_count": 16,
     "metadata": {},
     "output_type": "execute_result"
    }
   ],
   "source": [
    "b = df.loc[(df[\"اليوم_\"] == 27) & (df[\"الشهر\"] == 9) & (df[\"نوع التصريح\"] == \"عمرة\")]\n",
    "b"
   ]
  },
  {
   "cell_type": "markdown",
   "id": "8fc57f5e",
   "metadata": {},
   "source": [
    "روضة نساء والحنس ذكر! فيه خطأ\n",
    "\n",
    "اتصاريح العمرة يوم ٢٧/٩ للنساء كانت مايقارب ٧٥ ألف تصريح عمرة"
   ]
  },
  {
   "cell_type": "code",
   "execution_count": 17,
   "id": "791d12ef",
   "metadata": {},
   "outputs": [
    {
     "data": {
      "text/html": [
       "<div>\n",
       "<style scoped>\n",
       "    .dataframe tbody tr th:only-of-type {\n",
       "        vertical-align: middle;\n",
       "    }\n",
       "\n",
       "    .dataframe tbody tr th {\n",
       "        vertical-align: top;\n",
       "    }\n",
       "\n",
       "    .dataframe thead th {\n",
       "        text-align: right;\n",
       "    }\n",
       "</style>\n",
       "<table border=\"1\" class=\"dataframe\">\n",
       "  <thead>\n",
       "    <tr style=\"text-align: right;\">\n",
       "      <th></th>\n",
       "      <th>عدد التصاريح من نسك</th>\n",
       "      <th>نوع التصريح</th>\n",
       "      <th>الجنس</th>\n",
       "      <th>الشهر</th>\n",
       "      <th>اليوم_</th>\n",
       "    </tr>\n",
       "  </thead>\n",
       "  <tbody>\n",
       "    <tr>\n",
       "      <th>190</th>\n",
       "      <td>41</td>\n",
       "      <td>روضة نساء</td>\n",
       "      <td>ذكر</td>\n",
       "      <td>1</td>\n",
       "      <td>13</td>\n",
       "    </tr>\n",
       "    <tr>\n",
       "      <th>191</th>\n",
       "      <td>41</td>\n",
       "      <td>روضة نساء</td>\n",
       "      <td>ذكر</td>\n",
       "      <td>6</td>\n",
       "      <td>25</td>\n",
       "    </tr>\n",
       "    <tr>\n",
       "      <th>192</th>\n",
       "      <td>2</td>\n",
       "      <td>روضة نساء</td>\n",
       "      <td>ذكر</td>\n",
       "      <td>7</td>\n",
       "      <td>23</td>\n",
       "    </tr>\n",
       "    <tr>\n",
       "      <th>193</th>\n",
       "      <td>5</td>\n",
       "      <td>روضة نساء</td>\n",
       "      <td>ذكر</td>\n",
       "      <td>6</td>\n",
       "      <td>4</td>\n",
       "    </tr>\n",
       "    <tr>\n",
       "      <th>194</th>\n",
       "      <td>17</td>\n",
       "      <td>روضة نساء</td>\n",
       "      <td>ذكر</td>\n",
       "      <td>5</td>\n",
       "      <td>14</td>\n",
       "    </tr>\n",
       "    <tr>\n",
       "      <th>...</th>\n",
       "      <td>...</td>\n",
       "      <td>...</td>\n",
       "      <td>...</td>\n",
       "      <td>...</td>\n",
       "      <td>...</td>\n",
       "    </tr>\n",
       "    <tr>\n",
       "      <th>1707</th>\n",
       "      <td>1</td>\n",
       "      <td>روضة نساء</td>\n",
       "      <td>ذكر</td>\n",
       "      <td>10</td>\n",
       "      <td>17</td>\n",
       "    </tr>\n",
       "    <tr>\n",
       "      <th>1708</th>\n",
       "      <td>1</td>\n",
       "      <td>روضة نساء</td>\n",
       "      <td>ذكر</td>\n",
       "      <td>4</td>\n",
       "      <td>19</td>\n",
       "    </tr>\n",
       "    <tr>\n",
       "      <th>1709</th>\n",
       "      <td>1</td>\n",
       "      <td>روضة نساء</td>\n",
       "      <td>ذكر</td>\n",
       "      <td>8</td>\n",
       "      <td>24</td>\n",
       "    </tr>\n",
       "    <tr>\n",
       "      <th>1710</th>\n",
       "      <td>1</td>\n",
       "      <td>روضة نساء</td>\n",
       "      <td>ذكر</td>\n",
       "      <td>12</td>\n",
       "      <td>3</td>\n",
       "    </tr>\n",
       "    <tr>\n",
       "      <th>1714</th>\n",
       "      <td>1</td>\n",
       "      <td>روضة نساء</td>\n",
       "      <td>ذكر</td>\n",
       "      <td>10</td>\n",
       "      <td>19</td>\n",
       "    </tr>\n",
       "  </tbody>\n",
       "</table>\n",
       "<p>226 rows × 5 columns</p>\n",
       "</div>"
      ],
      "text/plain": [
       "      عدد التصاريح من نسك نوع التصريح الجنس  الشهر  اليوم_\n",
       "190                    41   روضة نساء   ذكر      1      13\n",
       "191                    41   روضة نساء   ذكر      6      25\n",
       "192                     2   روضة نساء   ذكر      7      23\n",
       "193                     5   روضة نساء   ذكر      6       4\n",
       "194                    17   روضة نساء   ذكر      5      14\n",
       "...                   ...         ...   ...    ...     ...\n",
       "1707                    1   روضة نساء   ذكر     10      17\n",
       "1708                    1   روضة نساء   ذكر      4      19\n",
       "1709                    1   روضة نساء   ذكر      8      24\n",
       "1710                    1   روضة نساء   ذكر     12       3\n",
       "1714                    1   روضة نساء   ذكر     10      19\n",
       "\n",
       "[226 rows x 5 columns]"
      ]
     },
     "execution_count": 17,
     "metadata": {},
     "output_type": "execute_result"
    }
   ],
   "source": [
    "wrong_info = df.loc[(df[\"نوع التصريح\"] == \"روضة نساء\") & (df[\"الجنس\"] == \"ذكر\")]\n",
    "wrong_info"
   ]
  },
  {
   "cell_type": "code",
   "execution_count": 18,
   "id": "fd023342",
   "metadata": {},
   "outputs": [
    {
     "data": {
      "text/html": [
       "<div>\n",
       "<style scoped>\n",
       "    .dataframe tbody tr th:only-of-type {\n",
       "        vertical-align: middle;\n",
       "    }\n",
       "\n",
       "    .dataframe tbody tr th {\n",
       "        vertical-align: top;\n",
       "    }\n",
       "\n",
       "    .dataframe thead th {\n",
       "        text-align: right;\n",
       "    }\n",
       "</style>\n",
       "<table border=\"1\" class=\"dataframe\">\n",
       "  <thead>\n",
       "    <tr style=\"text-align: right;\">\n",
       "      <th></th>\n",
       "      <th>عدد التصاريح من نسك</th>\n",
       "      <th>نوع التصريح</th>\n",
       "      <th>الجنس</th>\n",
       "      <th>الشهر</th>\n",
       "      <th>اليوم_</th>\n",
       "    </tr>\n",
       "  </thead>\n",
       "  <tbody>\n",
       "    <tr>\n",
       "      <th>213</th>\n",
       "      <td>2</td>\n",
       "      <td>روضة رجال</td>\n",
       "      <td>أنثى</td>\n",
       "      <td>1</td>\n",
       "      <td>8</td>\n",
       "    </tr>\n",
       "    <tr>\n",
       "      <th>214</th>\n",
       "      <td>5</td>\n",
       "      <td>روضة رجال</td>\n",
       "      <td>أنثى</td>\n",
       "      <td>1</td>\n",
       "      <td>14</td>\n",
       "    </tr>\n",
       "    <tr>\n",
       "      <th>215</th>\n",
       "      <td>1</td>\n",
       "      <td>روضة رجال</td>\n",
       "      <td>أنثى</td>\n",
       "      <td>4</td>\n",
       "      <td>1</td>\n",
       "    </tr>\n",
       "    <tr>\n",
       "      <th>216</th>\n",
       "      <td>1</td>\n",
       "      <td>روضة رجال</td>\n",
       "      <td>أنثى</td>\n",
       "      <td>10</td>\n",
       "      <td>5</td>\n",
       "    </tr>\n",
       "    <tr>\n",
       "      <th>217</th>\n",
       "      <td>1</td>\n",
       "      <td>روضة رجال</td>\n",
       "      <td>أنثى</td>\n",
       "      <td>10</td>\n",
       "      <td>6</td>\n",
       "    </tr>\n",
       "    <tr>\n",
       "      <th>...</th>\n",
       "      <td>...</td>\n",
       "      <td>...</td>\n",
       "      <td>...</td>\n",
       "      <td>...</td>\n",
       "      <td>...</td>\n",
       "    </tr>\n",
       "    <tr>\n",
       "      <th>1713</th>\n",
       "      <td>1</td>\n",
       "      <td>روضة رجال</td>\n",
       "      <td>أنثى</td>\n",
       "      <td>10</td>\n",
       "      <td>25</td>\n",
       "    </tr>\n",
       "    <tr>\n",
       "      <th>1715</th>\n",
       "      <td>1</td>\n",
       "      <td>روضة رجال</td>\n",
       "      <td>أنثى</td>\n",
       "      <td>5</td>\n",
       "      <td>23</td>\n",
       "    </tr>\n",
       "    <tr>\n",
       "      <th>1716</th>\n",
       "      <td>1</td>\n",
       "      <td>روضة رجال</td>\n",
       "      <td>أنثى</td>\n",
       "      <td>6</td>\n",
       "      <td>8</td>\n",
       "    </tr>\n",
       "    <tr>\n",
       "      <th>1717</th>\n",
       "      <td>1</td>\n",
       "      <td>روضة رجال</td>\n",
       "      <td>أنثى</td>\n",
       "      <td>10</td>\n",
       "      <td>29</td>\n",
       "    </tr>\n",
       "    <tr>\n",
       "      <th>1718</th>\n",
       "      <td>1</td>\n",
       "      <td>روضة رجال</td>\n",
       "      <td>أنثى</td>\n",
       "      <td>9</td>\n",
       "      <td>5</td>\n",
       "    </tr>\n",
       "  </tbody>\n",
       "</table>\n",
       "<p>85 rows × 5 columns</p>\n",
       "</div>"
      ],
      "text/plain": [
       "      عدد التصاريح من نسك نوع التصريح الجنس  الشهر  اليوم_\n",
       "213                     2   روضة رجال  أنثى      1       8\n",
       "214                     5   روضة رجال  أنثى      1      14\n",
       "215                     1   روضة رجال  أنثى      4       1\n",
       "216                     1   روضة رجال  أنثى     10       5\n",
       "217                     1   روضة رجال  أنثى     10       6\n",
       "...                   ...         ...   ...    ...     ...\n",
       "1713                    1   روضة رجال  أنثى     10      25\n",
       "1715                    1   روضة رجال  أنثى      5      23\n",
       "1716                    1   روضة رجال  أنثى      6       8\n",
       "1717                    1   روضة رجال  أنثى     10      29\n",
       "1718                    1   روضة رجال  أنثى      9       5\n",
       "\n",
       "[85 rows x 5 columns]"
      ]
     },
     "execution_count": 18,
     "metadata": {},
     "output_type": "execute_result"
    }
   ],
   "source": [
    "wrong_info2 = df.loc[(df[\"نوع التصريح\"] == \"روضة رجال\") & (df[\"الجنس\"] == \"أنثى\")]\n",
    "wrong_info2"
   ]
  },
  {
   "cell_type": "code",
   "execution_count": 23,
   "id": "dbccb9d6",
   "metadata": {},
   "outputs": [
    {
     "data": {
      "image/png": "[encoded data removed]",
      "text/plain": [
       "<Figure size 640x480 with 1 Axes>"
      ]
     },
     "metadata": {},
     "output_type": "display_data"
    }
   ],
   "source": [
    "x = df[\"الشهر\"]\n",
    "y = df[\"عدد التصاريح من نسك\"]\n",
    "xlbl = get_display( arabic_reshaper.reshape('الشهر'))\n",
    "ylbl = get_display( arabic_reshaper.reshape('عدد التصاريح'))\n",
    "label = get_display(arabic_reshaper.reshape(\"مجموع التصاريح في كل شهر هجري\")) \n",
    "          \n",
    "plt.bar(x, y, label='Bar1', color='green')\n",
    "plt.xlabel(xlbl, fontdict=None, labelpad=None)\n",
    "plt.ylabel(ylbl, fontdict=None, labelpad=None)\n",
    "plt.title (label, fontweight=10, pad='2.0')\n",
    "plt.show()"
   ]
  }
 ],
 "metadata": {
  "kernelspec": {
   "display_name": "Python 3 (ipykernel)",
   "language": "python",
   "name": "python3"
  },
  "language_info": {
   "codemirror_mode": {
    "name": "ipython",
    "version": 3
   },
   "file_extension": ".py",
   "mimetype": "text/x-python",
   "name": "python",
   "nbconvert_exporter": "python",
   "pygments_lexer": "ipython3",
   "version": "3.11.5"
  }
 },
 "nbformat": 4,
 "nbformat_minor": 5
}
